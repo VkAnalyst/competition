{
 "cells": [
  {
   "cell_type": "markdown",
   "id": "a4e1b76f",
   "metadata": {},
   "source": [
    "# DSA Competition"
   ]
  },
  {
   "cell_type": "markdown",
   "id": "440f43e0",
   "metadata": {},
   "source": [
    "## Submission by:\n",
    "### Group 18\n",
    "#### Members: \n",
    "- Amal V Nair\n",
    "- Aruna Chandran\n",
    "- Vyshakh Krishnan\n",
    "\n",
    "#### Domain:\n",
    "- Elections"
   ]
  },
  {
   "cell_type": "markdown",
   "id": "6e40bcd8",
   "metadata": {},
   "source": [
    "Dataset : 2019 Indian Lok Sabha Elections"
   ]
  },
  {
   "cell_type": "markdown",
   "id": "ea04967f",
   "metadata": {},
   "source": [
    "### Objectives:\n",
    "- Perform General Analysis and draw inference\n",
    "- Predict winner using suitable classificaion model"
   ]
  },
  {
   "cell_type": "markdown",
   "id": "62a5c2ff",
   "metadata": {},
   "source": [
    "### Importing Relevant Libraries"
   ]
  },
  {
   "cell_type": "code",
   "execution_count": 1,
   "id": "31938fac",
   "metadata": {},
   "outputs": [],
   "source": [
    "import numpy as np\n",
    "import pandas as pd\n",
    "import matplotlib.pyplot as plt\n",
    "import seaborn as sns"
   ]
  },
  {
   "cell_type": "code",
   "execution_count": 129,
   "id": "b40adc3d",
   "metadata": {},
   "outputs": [],
   "source": [
    "from sklearn.preprocessing import LabelEncoder, StandardScaler\n",
    "from sklearn.model_selection import train_test_split, GridSearchCV, ParameterGrid, cross_val_score\n",
    "from sklearn.metrics import accuracy_score, confusion_matrix"
   ]
  },
  {
   "cell_type": "code",
   "execution_count": 3,
   "id": "655dca11",
   "metadata": {},
   "outputs": [],
   "source": [
    "from sklearn.svm import SVC\n",
    "from sklearn.tree import DecisionTreeClassifier\n",
    "from sklearn.linear_model import LogisticRegression\n",
    "from sklearn.neighbors import KNeighborsClassifier\n",
    "from sklearn.ensemble import RandomForestClassifier"
   ]
  },
  {
   "cell_type": "markdown",
   "id": "1be490ba",
   "metadata": {},
   "source": [
    "### Reading the dataset into python"
   ]
  },
  {
   "cell_type": "code",
   "execution_count": 67,
   "id": "68009c6c",
   "metadata": {},
   "outputs": [
    {
     "data": {
      "text/html": [
       "<div>\n",
       "<style scoped>\n",
       "    .dataframe tbody tr th:only-of-type {\n",
       "        vertical-align: middle;\n",
       "    }\n",
       "\n",
       "    .dataframe tbody tr th {\n",
       "        vertical-align: top;\n",
       "    }\n",
       "\n",
       "    .dataframe thead th {\n",
       "        text-align: right;\n",
       "    }\n",
       "</style>\n",
       "<table border=\"1\" class=\"dataframe\">\n",
       "  <thead>\n",
       "    <tr style=\"text-align: right;\">\n",
       "      <th></th>\n",
       "      <th>STATE</th>\n",
       "      <th>CONSTITUENCY</th>\n",
       "      <th>NAME</th>\n",
       "      <th>WINNER</th>\n",
       "      <th>PARTY</th>\n",
       "      <th>SYMBOL</th>\n",
       "      <th>GENDER</th>\n",
       "      <th>CRIMINAL\\nCASES</th>\n",
       "      <th>AGE</th>\n",
       "      <th>CATEGORY</th>\n",
       "      <th>EDUCATION</th>\n",
       "      <th>ASSETS</th>\n",
       "      <th>LIABILITIES</th>\n",
       "      <th>GENERAL\\nVOTES</th>\n",
       "      <th>POSTAL\\nVOTES</th>\n",
       "      <th>TOTAL\\nVOTES</th>\n",
       "      <th>OVER TOTAL ELECTORS \\nIN CONSTITUENCY</th>\n",
       "      <th>OVER TOTAL VOTES POLLED \\nIN CONSTITUENCY</th>\n",
       "      <th>TOTAL ELECTORS</th>\n",
       "    </tr>\n",
       "  </thead>\n",
       "  <tbody>\n",
       "    <tr>\n",
       "      <th>0</th>\n",
       "      <td>Telangana</td>\n",
       "      <td>ADILABAD</td>\n",
       "      <td>SOYAM BAPU RAO</td>\n",
       "      <td>1</td>\n",
       "      <td>BJP</td>\n",
       "      <td>Lotus</td>\n",
       "      <td>MALE</td>\n",
       "      <td>52</td>\n",
       "      <td>52.0</td>\n",
       "      <td>ST</td>\n",
       "      <td>12th Pass</td>\n",
       "      <td>Rs 30,99,414\\n ~ 30 Lacs+</td>\n",
       "      <td>Rs 2,31,450\\n ~ 2 Lacs+</td>\n",
       "      <td>376892</td>\n",
       "      <td>482</td>\n",
       "      <td>377374</td>\n",
       "      <td>25.330684</td>\n",
       "      <td>35.468248</td>\n",
       "      <td>1489790</td>\n",
       "    </tr>\n",
       "    <tr>\n",
       "      <th>1</th>\n",
       "      <td>Telangana</td>\n",
       "      <td>ADILABAD</td>\n",
       "      <td>Godam Nagesh</td>\n",
       "      <td>0</td>\n",
       "      <td>TRS</td>\n",
       "      <td>Car</td>\n",
       "      <td>MALE</td>\n",
       "      <td>0</td>\n",
       "      <td>54.0</td>\n",
       "      <td>ST</td>\n",
       "      <td>Post Graduate</td>\n",
       "      <td>Rs 1,84,77,888\\n ~ 1 Crore+</td>\n",
       "      <td>Rs 8,47,000\\n ~ 8 Lacs+</td>\n",
       "      <td>318665</td>\n",
       "      <td>149</td>\n",
       "      <td>318814</td>\n",
       "      <td>21.399929</td>\n",
       "      <td>29.964370</td>\n",
       "      <td>1489790</td>\n",
       "    </tr>\n",
       "    <tr>\n",
       "      <th>2</th>\n",
       "      <td>Telangana</td>\n",
       "      <td>ADILABAD</td>\n",
       "      <td>RATHOD RAMESH</td>\n",
       "      <td>0</td>\n",
       "      <td>INC</td>\n",
       "      <td>Hand</td>\n",
       "      <td>MALE</td>\n",
       "      <td>3</td>\n",
       "      <td>52.0</td>\n",
       "      <td>ST</td>\n",
       "      <td>12th Pass</td>\n",
       "      <td>Rs 3,64,91,000\\n ~ 3 Crore+</td>\n",
       "      <td>Rs 1,53,00,000\\n ~ 1 Crore+</td>\n",
       "      <td>314057</td>\n",
       "      <td>181</td>\n",
       "      <td>314238</td>\n",
       "      <td>21.092771</td>\n",
       "      <td>29.534285</td>\n",
       "      <td>1489790</td>\n",
       "    </tr>\n",
       "    <tr>\n",
       "      <th>3</th>\n",
       "      <td>Telangana</td>\n",
       "      <td>ADILABAD</td>\n",
       "      <td>NOTA</td>\n",
       "      <td>0</td>\n",
       "      <td>NOTA</td>\n",
       "      <td>NaN</td>\n",
       "      <td>NaN</td>\n",
       "      <td>NaN</td>\n",
       "      <td>NaN</td>\n",
       "      <td>NaN</td>\n",
       "      <td>NaN</td>\n",
       "      <td>NaN</td>\n",
       "      <td>NaN</td>\n",
       "      <td>13030</td>\n",
       "      <td>6</td>\n",
       "      <td>13036</td>\n",
       "      <td>0.875023</td>\n",
       "      <td>1.225214</td>\n",
       "      <td>1489790</td>\n",
       "    </tr>\n",
       "    <tr>\n",
       "      <th>4</th>\n",
       "      <td>Uttar Pradesh</td>\n",
       "      <td>AGRA</td>\n",
       "      <td>Satyapal Singh Baghel</td>\n",
       "      <td>1</td>\n",
       "      <td>BJP</td>\n",
       "      <td>Lotus</td>\n",
       "      <td>MALE</td>\n",
       "      <td>5</td>\n",
       "      <td>58.0</td>\n",
       "      <td>SC</td>\n",
       "      <td>Doctorate</td>\n",
       "      <td>Rs 7,42,74,036\\n ~ 7 Crore+</td>\n",
       "      <td>Rs 86,06,522\\n ~ 86 Lacs+</td>\n",
       "      <td>644459</td>\n",
       "      <td>2416</td>\n",
       "      <td>646875</td>\n",
       "      <td>33.383823</td>\n",
       "      <td>56.464615</td>\n",
       "      <td>1937690</td>\n",
       "    </tr>\n",
       "  </tbody>\n",
       "</table>\n",
       "</div>"
      ],
      "text/plain": [
       "           STATE CONSTITUENCY                   NAME  WINNER PARTY SYMBOL  \\\n",
       "0      Telangana     ADILABAD         SOYAM BAPU RAO       1   BJP  Lotus   \n",
       "1      Telangana     ADILABAD           Godam Nagesh       0   TRS    Car   \n",
       "2      Telangana     ADILABAD          RATHOD RAMESH       0   INC   Hand   \n",
       "3      Telangana     ADILABAD                   NOTA       0  NOTA    NaN   \n",
       "4  Uttar Pradesh         AGRA  Satyapal Singh Baghel       1   BJP  Lotus   \n",
       "\n",
       "  GENDER CRIMINAL\\nCASES   AGE CATEGORY      EDUCATION  \\\n",
       "0   MALE              52  52.0       ST      12th Pass   \n",
       "1   MALE               0  54.0       ST  Post Graduate   \n",
       "2   MALE               3  52.0       ST      12th Pass   \n",
       "3    NaN             NaN   NaN      NaN            NaN   \n",
       "4   MALE               5  58.0       SC      Doctorate   \n",
       "\n",
       "                        ASSETS                  LIABILITIES  GENERAL\\nVOTES  \\\n",
       "0    Rs 30,99,414\\n ~ 30 Lacs+      Rs 2,31,450\\n ~ 2 Lacs+          376892   \n",
       "1  Rs 1,84,77,888\\n ~ 1 Crore+      Rs 8,47,000\\n ~ 8 Lacs+          318665   \n",
       "2  Rs 3,64,91,000\\n ~ 3 Crore+  Rs 1,53,00,000\\n ~ 1 Crore+          314057   \n",
       "3                          NaN                          NaN           13030   \n",
       "4  Rs 7,42,74,036\\n ~ 7 Crore+    Rs 86,06,522\\n ~ 86 Lacs+          644459   \n",
       "\n",
       "   POSTAL\\nVOTES  TOTAL\\nVOTES  OVER TOTAL ELECTORS \\nIN CONSTITUENCY  \\\n",
       "0            482        377374                              25.330684   \n",
       "1            149        318814                              21.399929   \n",
       "2            181        314238                              21.092771   \n",
       "3              6         13036                               0.875023   \n",
       "4           2416        646875                              33.383823   \n",
       "\n",
       "   OVER TOTAL VOTES POLLED \\nIN CONSTITUENCY  TOTAL ELECTORS  \n",
       "0                                  35.468248         1489790  \n",
       "1                                  29.964370         1489790  \n",
       "2                                  29.534285         1489790  \n",
       "3                                   1.225214         1489790  \n",
       "4                                  56.464615         1937690  "
      ]
     },
     "execution_count": 67,
     "metadata": {},
     "output_type": "execute_result"
    }
   ],
   "source": [
    "df = pd.read_csv('Data/Lok_sabha_2019.csv')\n",
    "df.head()"
   ]
  },
  {
   "cell_type": "markdown",
   "id": "861e7a66",
   "metadata": {},
   "source": [
    "## 1.Preprocessing"
   ]
  },
  {
   "cell_type": "code",
   "execution_count": 68,
   "id": "60bd0df1",
   "metadata": {
    "scrolled": false
   },
   "outputs": [
    {
     "name": "stdout",
     "output_type": "stream",
     "text": [
      "<class 'pandas.core.frame.DataFrame'>\n",
      "RangeIndex: 2263 entries, 0 to 2262\n",
      "Data columns (total 19 columns):\n",
      " #   Column                                    Non-Null Count  Dtype  \n",
      "---  ------                                    --------------  -----  \n",
      " 0   STATE                                     2263 non-null   object \n",
      " 1   CONSTITUENCY                              2263 non-null   object \n",
      " 2   NAME                                      2263 non-null   object \n",
      " 3   WINNER                                    2263 non-null   int64  \n",
      " 4   PARTY                                     2263 non-null   object \n",
      " 5   SYMBOL                                    2018 non-null   object \n",
      " 6   GENDER                                    2018 non-null   object \n",
      " 7   CRIMINAL\n",
      "CASES                            2018 non-null   object \n",
      " 8   AGE                                       2018 non-null   float64\n",
      " 9   CATEGORY                                  2018 non-null   object \n",
      " 10  EDUCATION                                 2018 non-null   object \n",
      " 11  ASSETS                                    2018 non-null   object \n",
      " 12  LIABILITIES                               2018 non-null   object \n",
      " 13  GENERAL\n",
      "VOTES                             2263 non-null   int64  \n",
      " 14  POSTAL\n",
      "VOTES                              2263 non-null   int64  \n",
      " 15  TOTAL\n",
      "VOTES                               2263 non-null   int64  \n",
      " 16  OVER TOTAL ELECTORS \n",
      "IN CONSTITUENCY      2263 non-null   float64\n",
      " 17  OVER TOTAL VOTES POLLED \n",
      "IN CONSTITUENCY  2263 non-null   float64\n",
      " 18  TOTAL ELECTORS                            2263 non-null   int64  \n",
      "dtypes: float64(3), int64(5), object(11)\n",
      "memory usage: 336.0+ KB\n"
     ]
    }
   ],
   "source": [
    "df.info()"
   ]
  },
  {
   "cell_type": "markdown",
   "id": "972e5ff9",
   "metadata": {},
   "source": [
    "### Handling Missing Values"
   ]
  },
  {
   "cell_type": "code",
   "execution_count": 69,
   "id": "67df4123",
   "metadata": {},
   "outputs": [
    {
     "data": {
      "text/plain": [
       "STATE                                          0\n",
       "CONSTITUENCY                                   0\n",
       "NAME                                           0\n",
       "WINNER                                         0\n",
       "PARTY                                          0\n",
       "SYMBOL                                       245\n",
       "GENDER                                       245\n",
       "CRIMINAL\\nCASES                              245\n",
       "AGE                                          245\n",
       "CATEGORY                                     245\n",
       "EDUCATION                                    245\n",
       "ASSETS                                       245\n",
       "LIABILITIES                                  245\n",
       "GENERAL\\nVOTES                                 0\n",
       "POSTAL\\nVOTES                                  0\n",
       "TOTAL\\nVOTES                                   0\n",
       "OVER TOTAL ELECTORS \\nIN CONSTITUENCY          0\n",
       "OVER TOTAL VOTES POLLED \\nIN CONSTITUENCY      0\n",
       "TOTAL ELECTORS                                 0\n",
       "dtype: int64"
      ]
     },
     "execution_count": 69,
     "metadata": {},
     "output_type": "execute_result"
    }
   ],
   "source": [
    "df.isnull().sum()"
   ]
  },
  {
   "cell_type": "code",
   "execution_count": 70,
   "id": "250b5e50",
   "metadata": {
    "scrolled": true
   },
   "outputs": [
    {
     "data": {
      "text/html": [
       "<div>\n",
       "<style scoped>\n",
       "    .dataframe tbody tr th:only-of-type {\n",
       "        vertical-align: middle;\n",
       "    }\n",
       "\n",
       "    .dataframe tbody tr th {\n",
       "        vertical-align: top;\n",
       "    }\n",
       "\n",
       "    .dataframe thead th {\n",
       "        text-align: right;\n",
       "    }\n",
       "</style>\n",
       "<table border=\"1\" class=\"dataframe\">\n",
       "  <thead>\n",
       "    <tr style=\"text-align: right;\">\n",
       "      <th></th>\n",
       "      <th>WINNER</th>\n",
       "      <th>AGE</th>\n",
       "      <th>GENERAL\\nVOTES</th>\n",
       "      <th>POSTAL\\nVOTES</th>\n",
       "      <th>TOTAL\\nVOTES</th>\n",
       "      <th>OVER TOTAL ELECTORS \\nIN CONSTITUENCY</th>\n",
       "      <th>OVER TOTAL VOTES POLLED \\nIN CONSTITUENCY</th>\n",
       "      <th>TOTAL ELECTORS</th>\n",
       "    </tr>\n",
       "  </thead>\n",
       "  <tbody>\n",
       "    <tr>\n",
       "      <th>count</th>\n",
       "      <td>2263.000000</td>\n",
       "      <td>2018.000000</td>\n",
       "      <td>2.263000e+03</td>\n",
       "      <td>2263.000000</td>\n",
       "      <td>2.263000e+03</td>\n",
       "      <td>2263.000000</td>\n",
       "      <td>2263.000000</td>\n",
       "      <td>2.263000e+03</td>\n",
       "    </tr>\n",
       "    <tr>\n",
       "      <th>mean</th>\n",
       "      <td>0.238179</td>\n",
       "      <td>52.273538</td>\n",
       "      <td>2.615991e+05</td>\n",
       "      <td>990.710561</td>\n",
       "      <td>2.625898e+05</td>\n",
       "      <td>15.811412</td>\n",
       "      <td>23.190525</td>\n",
       "      <td>1.658016e+06</td>\n",
       "    </tr>\n",
       "    <tr>\n",
       "      <th>std</th>\n",
       "      <td>0.426064</td>\n",
       "      <td>11.869373</td>\n",
       "      <td>2.549906e+05</td>\n",
       "      <td>1602.839174</td>\n",
       "      <td>2.559822e+05</td>\n",
       "      <td>14.962861</td>\n",
       "      <td>21.564758</td>\n",
       "      <td>3.145187e+05</td>\n",
       "    </tr>\n",
       "    <tr>\n",
       "      <th>min</th>\n",
       "      <td>0.000000</td>\n",
       "      <td>25.000000</td>\n",
       "      <td>1.339000e+03</td>\n",
       "      <td>0.000000</td>\n",
       "      <td>1.342000e+03</td>\n",
       "      <td>0.097941</td>\n",
       "      <td>1.000039</td>\n",
       "      <td>5.518900e+04</td>\n",
       "    </tr>\n",
       "    <tr>\n",
       "      <th>25%</th>\n",
       "      <td>0.000000</td>\n",
       "      <td>43.250000</td>\n",
       "      <td>2.103450e+04</td>\n",
       "      <td>57.000000</td>\n",
       "      <td>2.116250e+04</td>\n",
       "      <td>1.296518</td>\n",
       "      <td>1.899502</td>\n",
       "      <td>1.530014e+06</td>\n",
       "    </tr>\n",
       "    <tr>\n",
       "      <th>50%</th>\n",
       "      <td>0.000000</td>\n",
       "      <td>52.000000</td>\n",
       "      <td>1.539340e+05</td>\n",
       "      <td>316.000000</td>\n",
       "      <td>1.544890e+05</td>\n",
       "      <td>10.510553</td>\n",
       "      <td>16.221721</td>\n",
       "      <td>1.679030e+06</td>\n",
       "    </tr>\n",
       "    <tr>\n",
       "      <th>75%</th>\n",
       "      <td>0.000000</td>\n",
       "      <td>61.000000</td>\n",
       "      <td>4.858040e+05</td>\n",
       "      <td>1385.000000</td>\n",
       "      <td>4.872315e+05</td>\n",
       "      <td>29.468185</td>\n",
       "      <td>42.590233</td>\n",
       "      <td>1.816857e+06</td>\n",
       "    </tr>\n",
       "    <tr>\n",
       "      <th>max</th>\n",
       "      <td>1.000000</td>\n",
       "      <td>86.000000</td>\n",
       "      <td>1.066824e+06</td>\n",
       "      <td>19367.000000</td>\n",
       "      <td>1.068569e+06</td>\n",
       "      <td>51.951012</td>\n",
       "      <td>74.411856</td>\n",
       "      <td>3.150313e+06</td>\n",
       "    </tr>\n",
       "  </tbody>\n",
       "</table>\n",
       "</div>"
      ],
      "text/plain": [
       "            WINNER          AGE  GENERAL\\nVOTES  POSTAL\\nVOTES  TOTAL\\nVOTES  \\\n",
       "count  2263.000000  2018.000000    2.263000e+03    2263.000000  2.263000e+03   \n",
       "mean      0.238179    52.273538    2.615991e+05     990.710561  2.625898e+05   \n",
       "std       0.426064    11.869373    2.549906e+05    1602.839174  2.559822e+05   \n",
       "min       0.000000    25.000000    1.339000e+03       0.000000  1.342000e+03   \n",
       "25%       0.000000    43.250000    2.103450e+04      57.000000  2.116250e+04   \n",
       "50%       0.000000    52.000000    1.539340e+05     316.000000  1.544890e+05   \n",
       "75%       0.000000    61.000000    4.858040e+05    1385.000000  4.872315e+05   \n",
       "max       1.000000    86.000000    1.066824e+06   19367.000000  1.068569e+06   \n",
       "\n",
       "       OVER TOTAL ELECTORS \\nIN CONSTITUENCY  \\\n",
       "count                            2263.000000   \n",
       "mean                               15.811412   \n",
       "std                                14.962861   \n",
       "min                                 0.097941   \n",
       "25%                                 1.296518   \n",
       "50%                                10.510553   \n",
       "75%                                29.468185   \n",
       "max                                51.951012   \n",
       "\n",
       "       OVER TOTAL VOTES POLLED \\nIN CONSTITUENCY  TOTAL ELECTORS  \n",
       "count                                2263.000000    2.263000e+03  \n",
       "mean                                   23.190525    1.658016e+06  \n",
       "std                                    21.564758    3.145187e+05  \n",
       "min                                     1.000039    5.518900e+04  \n",
       "25%                                     1.899502    1.530014e+06  \n",
       "50%                                    16.221721    1.679030e+06  \n",
       "75%                                    42.590233    1.816857e+06  \n",
       "max                                    74.411856    3.150313e+06  "
      ]
     },
     "execution_count": 70,
     "metadata": {},
     "output_type": "execute_result"
    }
   ],
   "source": [
    "df.describe()"
   ]
  },
  {
   "cell_type": "code",
   "execution_count": 71,
   "id": "d27b373d",
   "metadata": {},
   "outputs": [
    {
     "data": {
      "text/html": [
       "<div>\n",
       "<style scoped>\n",
       "    .dataframe tbody tr th:only-of-type {\n",
       "        vertical-align: middle;\n",
       "    }\n",
       "\n",
       "    .dataframe tbody tr th {\n",
       "        vertical-align: top;\n",
       "    }\n",
       "\n",
       "    .dataframe thead th {\n",
       "        text-align: right;\n",
       "    }\n",
       "</style>\n",
       "<table border=\"1\" class=\"dataframe\">\n",
       "  <thead>\n",
       "    <tr style=\"text-align: right;\">\n",
       "      <th></th>\n",
       "      <th>STATE</th>\n",
       "      <th>CONSTITUENCY</th>\n",
       "      <th>NAME</th>\n",
       "      <th>WINNER</th>\n",
       "      <th>PARTY</th>\n",
       "      <th>SYMBOL</th>\n",
       "      <th>GENDER</th>\n",
       "      <th>CRIMINAL\\nCASES</th>\n",
       "      <th>AGE</th>\n",
       "      <th>CATEGORY</th>\n",
       "      <th>EDUCATION</th>\n",
       "      <th>ASSETS</th>\n",
       "      <th>LIABILITIES</th>\n",
       "      <th>GENERAL\\nVOTES</th>\n",
       "      <th>POSTAL\\nVOTES</th>\n",
       "      <th>TOTAL\\nVOTES</th>\n",
       "      <th>OVER TOTAL ELECTORS \\nIN CONSTITUENCY</th>\n",
       "      <th>OVER TOTAL VOTES POLLED \\nIN CONSTITUENCY</th>\n",
       "      <th>TOTAL ELECTORS</th>\n",
       "    </tr>\n",
       "  </thead>\n",
       "  <tbody>\n",
       "    <tr>\n",
       "      <th>3</th>\n",
       "      <td>Telangana</td>\n",
       "      <td>ADILABAD</td>\n",
       "      <td>NOTA</td>\n",
       "      <td>0</td>\n",
       "      <td>NOTA</td>\n",
       "      <td>NaN</td>\n",
       "      <td>NaN</td>\n",
       "      <td>NaN</td>\n",
       "      <td>NaN</td>\n",
       "      <td>NaN</td>\n",
       "      <td>NaN</td>\n",
       "      <td>NaN</td>\n",
       "      <td>NaN</td>\n",
       "      <td>13030</td>\n",
       "      <td>6</td>\n",
       "      <td>13036</td>\n",
       "      <td>0.875023</td>\n",
       "      <td>1.225214</td>\n",
       "      <td>1489790</td>\n",
       "    </tr>\n",
       "    <tr>\n",
       "      <th>14</th>\n",
       "      <td>Gujarat</td>\n",
       "      <td>AHMEDABAD WEST</td>\n",
       "      <td>NOTA</td>\n",
       "      <td>0</td>\n",
       "      <td>NOTA</td>\n",
       "      <td>NaN</td>\n",
       "      <td>NaN</td>\n",
       "      <td>NaN</td>\n",
       "      <td>NaN</td>\n",
       "      <td>NaN</td>\n",
       "      <td>NaN</td>\n",
       "      <td>NaN</td>\n",
       "      <td>NaN</td>\n",
       "      <td>14580</td>\n",
       "      <td>139</td>\n",
       "      <td>14719</td>\n",
       "      <td>0.895688</td>\n",
       "      <td>1.473030</td>\n",
       "      <td>1643317</td>\n",
       "    </tr>\n",
       "    <tr>\n",
       "      <th>39</th>\n",
       "      <td>West Bengal</td>\n",
       "      <td>ALIPURDUARS</td>\n",
       "      <td>NOTA</td>\n",
       "      <td>0</td>\n",
       "      <td>NOTA</td>\n",
       "      <td>NaN</td>\n",
       "      <td>NaN</td>\n",
       "      <td>NaN</td>\n",
       "      <td>NaN</td>\n",
       "      <td>NaN</td>\n",
       "      <td>NaN</td>\n",
       "      <td>NaN</td>\n",
       "      <td>NaN</td>\n",
       "      <td>21147</td>\n",
       "      <td>28</td>\n",
       "      <td>21175</td>\n",
       "      <td>1.284592</td>\n",
       "      <td>1.533114</td>\n",
       "      <td>1648383</td>\n",
       "    </tr>\n",
       "    <tr>\n",
       "      <th>46</th>\n",
       "      <td>Uttarakhand</td>\n",
       "      <td>ALMORA</td>\n",
       "      <td>NOTA</td>\n",
       "      <td>0</td>\n",
       "      <td>NOTA</td>\n",
       "      <td>NaN</td>\n",
       "      <td>NaN</td>\n",
       "      <td>NaN</td>\n",
       "      <td>NaN</td>\n",
       "      <td>NaN</td>\n",
       "      <td>NaN</td>\n",
       "      <td>NaN</td>\n",
       "      <td>NaN</td>\n",
       "      <td>15311</td>\n",
       "      <td>194</td>\n",
       "      <td>15505</td>\n",
       "      <td>1.158985</td>\n",
       "      <td>2.215611</td>\n",
       "      <td>1337808</td>\n",
       "    </tr>\n",
       "    <tr>\n",
       "      <th>54</th>\n",
       "      <td>Andhra Pradesh</td>\n",
       "      <td>AMALAPURAM</td>\n",
       "      <td>NOTA</td>\n",
       "      <td>0</td>\n",
       "      <td>NOTA</td>\n",
       "      <td>NaN</td>\n",
       "      <td>NaN</td>\n",
       "      <td>NaN</td>\n",
       "      <td>NaN</td>\n",
       "      <td>NaN</td>\n",
       "      <td>NaN</td>\n",
       "      <td>NaN</td>\n",
       "      <td>NaN</td>\n",
       "      <td>16427</td>\n",
       "      <td>41</td>\n",
       "      <td>16468</td>\n",
       "      <td>1.128288</td>\n",
       "      <td>1.333044</td>\n",
       "      <td>1459556</td>\n",
       "    </tr>\n",
       "    <tr>\n",
       "      <th>...</th>\n",
       "      <td>...</td>\n",
       "      <td>...</td>\n",
       "      <td>...</td>\n",
       "      <td>...</td>\n",
       "      <td>...</td>\n",
       "      <td>...</td>\n",
       "      <td>...</td>\n",
       "      <td>...</td>\n",
       "      <td>...</td>\n",
       "      <td>...</td>\n",
       "      <td>...</td>\n",
       "      <td>...</td>\n",
       "      <td>...</td>\n",
       "      <td>...</td>\n",
       "      <td>...</td>\n",
       "      <td>...</td>\n",
       "      <td>...</td>\n",
       "      <td>...</td>\n",
       "      <td>...</td>\n",
       "    </tr>\n",
       "    <tr>\n",
       "      <th>2225</th>\n",
       "      <td>Tamil Nadu</td>\n",
       "      <td>VIRUDHUNAGAR</td>\n",
       "      <td>NOTA</td>\n",
       "      <td>0</td>\n",
       "      <td>NOTA</td>\n",
       "      <td>NaN</td>\n",
       "      <td>NaN</td>\n",
       "      <td>NaN</td>\n",
       "      <td>NaN</td>\n",
       "      <td>NaN</td>\n",
       "      <td>NaN</td>\n",
       "      <td>NaN</td>\n",
       "      <td>NaN</td>\n",
       "      <td>17087</td>\n",
       "      <td>205</td>\n",
       "      <td>17292</td>\n",
       "      <td>1.165028</td>\n",
       "      <td>1.607174</td>\n",
       "      <td>1484256</td>\n",
       "    </tr>\n",
       "    <tr>\n",
       "      <th>2230</th>\n",
       "      <td>Andhra Pradesh</td>\n",
       "      <td>VISAKHAPATNAM</td>\n",
       "      <td>NOTA</td>\n",
       "      <td>0</td>\n",
       "      <td>NOTA</td>\n",
       "      <td>NaN</td>\n",
       "      <td>NaN</td>\n",
       "      <td>NaN</td>\n",
       "      <td>NaN</td>\n",
       "      <td>NaN</td>\n",
       "      <td>NaN</td>\n",
       "      <td>NaN</td>\n",
       "      <td>NaN</td>\n",
       "      <td>16626</td>\n",
       "      <td>20</td>\n",
       "      <td>16646</td>\n",
       "      <td>0.909966</td>\n",
       "      <td>1.342505</td>\n",
       "      <td>1829300</td>\n",
       "    </tr>\n",
       "    <tr>\n",
       "      <th>2235</th>\n",
       "      <td>Andhra Pradesh</td>\n",
       "      <td>VIZIANAGARAM</td>\n",
       "      <td>NOTA</td>\n",
       "      <td>0</td>\n",
       "      <td>NOTA</td>\n",
       "      <td>NaN</td>\n",
       "      <td>NaN</td>\n",
       "      <td>NaN</td>\n",
       "      <td>NaN</td>\n",
       "      <td>NaN</td>\n",
       "      <td>NaN</td>\n",
       "      <td>NaN</td>\n",
       "      <td>NaN</td>\n",
       "      <td>29468</td>\n",
       "      <td>33</td>\n",
       "      <td>29501</td>\n",
       "      <td>1.961529</td>\n",
       "      <td>2.413302</td>\n",
       "      <td>1503980</td>\n",
       "    </tr>\n",
       "    <tr>\n",
       "      <th>2241</th>\n",
       "      <td>Telangana</td>\n",
       "      <td>WARANGAL</td>\n",
       "      <td>NOTA</td>\n",
       "      <td>0</td>\n",
       "      <td>NOTA</td>\n",
       "      <td>NaN</td>\n",
       "      <td>NaN</td>\n",
       "      <td>NaN</td>\n",
       "      <td>NaN</td>\n",
       "      <td>NaN</td>\n",
       "      <td>NaN</td>\n",
       "      <td>NaN</td>\n",
       "      <td>NaN</td>\n",
       "      <td>18764</td>\n",
       "      <td>37</td>\n",
       "      <td>18801</td>\n",
       "      <td>1.127990</td>\n",
       "      <td>1.770886</td>\n",
       "      <td>1666770</td>\n",
       "    </tr>\n",
       "    <tr>\n",
       "      <th>2262</th>\n",
       "      <td>Telangana</td>\n",
       "      <td>ZAHIRABAD</td>\n",
       "      <td>NOTA</td>\n",
       "      <td>0</td>\n",
       "      <td>NOTA</td>\n",
       "      <td>NaN</td>\n",
       "      <td>NaN</td>\n",
       "      <td>NaN</td>\n",
       "      <td>NaN</td>\n",
       "      <td>NaN</td>\n",
       "      <td>NaN</td>\n",
       "      <td>NaN</td>\n",
       "      <td>NaN</td>\n",
       "      <td>11138</td>\n",
       "      <td>2</td>\n",
       "      <td>11140</td>\n",
       "      <td>0.743328</td>\n",
       "      <td>1.066535</td>\n",
       "      <td>1498666</td>\n",
       "    </tr>\n",
       "  </tbody>\n",
       "</table>\n",
       "<p>245 rows × 19 columns</p>\n",
       "</div>"
      ],
      "text/plain": [
       "               STATE    CONSTITUENCY  NAME  WINNER PARTY SYMBOL GENDER  \\\n",
       "3          Telangana        ADILABAD  NOTA       0  NOTA    NaN    NaN   \n",
       "14           Gujarat  AHMEDABAD WEST  NOTA       0  NOTA    NaN    NaN   \n",
       "39       West Bengal     ALIPURDUARS  NOTA       0  NOTA    NaN    NaN   \n",
       "46       Uttarakhand          ALMORA  NOTA       0  NOTA    NaN    NaN   \n",
       "54    Andhra Pradesh      AMALAPURAM  NOTA       0  NOTA    NaN    NaN   \n",
       "...              ...             ...   ...     ...   ...    ...    ...   \n",
       "2225      Tamil Nadu    VIRUDHUNAGAR  NOTA       0  NOTA    NaN    NaN   \n",
       "2230  Andhra Pradesh   VISAKHAPATNAM  NOTA       0  NOTA    NaN    NaN   \n",
       "2235  Andhra Pradesh    VIZIANAGARAM  NOTA       0  NOTA    NaN    NaN   \n",
       "2241       Telangana        WARANGAL  NOTA       0  NOTA    NaN    NaN   \n",
       "2262       Telangana       ZAHIRABAD  NOTA       0  NOTA    NaN    NaN   \n",
       "\n",
       "     CRIMINAL\\nCASES  AGE CATEGORY EDUCATION ASSETS LIABILITIES  \\\n",
       "3                NaN  NaN      NaN       NaN    NaN         NaN   \n",
       "14               NaN  NaN      NaN       NaN    NaN         NaN   \n",
       "39               NaN  NaN      NaN       NaN    NaN         NaN   \n",
       "46               NaN  NaN      NaN       NaN    NaN         NaN   \n",
       "54               NaN  NaN      NaN       NaN    NaN         NaN   \n",
       "...              ...  ...      ...       ...    ...         ...   \n",
       "2225             NaN  NaN      NaN       NaN    NaN         NaN   \n",
       "2230             NaN  NaN      NaN       NaN    NaN         NaN   \n",
       "2235             NaN  NaN      NaN       NaN    NaN         NaN   \n",
       "2241             NaN  NaN      NaN       NaN    NaN         NaN   \n",
       "2262             NaN  NaN      NaN       NaN    NaN         NaN   \n",
       "\n",
       "      GENERAL\\nVOTES  POSTAL\\nVOTES  TOTAL\\nVOTES  \\\n",
       "3              13030              6         13036   \n",
       "14             14580            139         14719   \n",
       "39             21147             28         21175   \n",
       "46             15311            194         15505   \n",
       "54             16427             41         16468   \n",
       "...              ...            ...           ...   \n",
       "2225           17087            205         17292   \n",
       "2230           16626             20         16646   \n",
       "2235           29468             33         29501   \n",
       "2241           18764             37         18801   \n",
       "2262           11138              2         11140   \n",
       "\n",
       "      OVER TOTAL ELECTORS \\nIN CONSTITUENCY  \\\n",
       "3                                  0.875023   \n",
       "14                                 0.895688   \n",
       "39                                 1.284592   \n",
       "46                                 1.158985   \n",
       "54                                 1.128288   \n",
       "...                                     ...   \n",
       "2225                               1.165028   \n",
       "2230                               0.909966   \n",
       "2235                               1.961529   \n",
       "2241                               1.127990   \n",
       "2262                               0.743328   \n",
       "\n",
       "      OVER TOTAL VOTES POLLED \\nIN CONSTITUENCY  TOTAL ELECTORS  \n",
       "3                                      1.225214         1489790  \n",
       "14                                     1.473030         1643317  \n",
       "39                                     1.533114         1648383  \n",
       "46                                     2.215611         1337808  \n",
       "54                                     1.333044         1459556  \n",
       "...                                         ...             ...  \n",
       "2225                                   1.607174         1484256  \n",
       "2230                                   1.342505         1829300  \n",
       "2235                                   2.413302         1503980  \n",
       "2241                                   1.770886         1666770  \n",
       "2262                                   1.066535         1498666  \n",
       "\n",
       "[245 rows x 19 columns]"
      ]
     },
     "execution_count": 71,
     "metadata": {},
     "output_type": "execute_result"
    }
   ],
   "source": [
    "df.loc[df['NAME'] == 'NOTA']"
   ]
  },
  {
   "cell_type": "markdown",
   "id": "5fac9c1a",
   "metadata": {},
   "source": [
    "### Insights:\n",
    "- The dataset contains 19 features and 2263 rows\n",
    "- Most columns are categorical and several contain null values\n",
    "- On further analysis the 'NOTA' column is contributing to null values"
   ]
  },
  {
   "cell_type": "code",
   "execution_count": 72,
   "id": "ac2ee509",
   "metadata": {},
   "outputs": [
    {
     "data": {
      "text/plain": [
       "count    245.000000\n",
       "mean       1.627031\n",
       "std        0.690592\n",
       "min        1.000689\n",
       "25%        1.189109\n",
       "50%        1.391887\n",
       "75%        1.762612\n",
       "max        5.034813\n",
       "Name: OVER TOTAL VOTES POLLED \\nIN CONSTITUENCY, dtype: float64"
      ]
     },
     "execution_count": 72,
     "metadata": {},
     "output_type": "execute_result"
    }
   ],
   "source": [
    "df.loc[df['NAME'] == 'NOTA']['OVER TOTAL VOTES POLLED \\nIN CONSTITUENCY'].describe()"
   ]
  },
  {
   "cell_type": "code",
   "execution_count": 73,
   "id": "78ec7ebc",
   "metadata": {},
   "outputs": [
    {
     "data": {
      "text/plain": [
       "count    245.000000\n",
       "mean       1.105566\n",
       "std        0.444233\n",
       "min        0.529958\n",
       "25%        0.855876\n",
       "50%        0.988637\n",
       "75%        1.225270\n",
       "max        3.305526\n",
       "Name: OVER TOTAL ELECTORS \\nIN CONSTITUENCY, dtype: float64"
      ]
     },
     "execution_count": 73,
     "metadata": {},
     "output_type": "execute_result"
    }
   ],
   "source": [
    "df.loc[df['NAME'] == 'NOTA']['OVER TOTAL ELECTORS \\nIN CONSTITUENCY'].describe()"
   ]
  },
  {
   "cell_type": "markdown",
   "id": "1136defa",
   "metadata": {},
   "source": [
    "- Overall only 1% of voters voted for NOTA\n",
    "- In each constituency, the average vote percent of NOTA is around 1%\n",
    "- Since NOTA is not a person and there is no reliable way to fill values such as age, gender, education, asset, etc, it seems better to remove NOTA from analysis."
   ]
  },
  {
   "cell_type": "code",
   "execution_count": 74,
   "id": "1b0f4cb2",
   "metadata": {},
   "outputs": [],
   "source": [
    "df.dropna(inplace=True)"
   ]
  },
  {
   "cell_type": "code",
   "execution_count": 75,
   "id": "0a840c3a",
   "metadata": {
    "scrolled": true
   },
   "outputs": [
    {
     "data": {
      "text/plain": [
       "STATE                                        0\n",
       "CONSTITUENCY                                 0\n",
       "NAME                                         0\n",
       "WINNER                                       0\n",
       "PARTY                                        0\n",
       "SYMBOL                                       0\n",
       "GENDER                                       0\n",
       "CRIMINAL\\nCASES                              0\n",
       "AGE                                          0\n",
       "CATEGORY                                     0\n",
       "EDUCATION                                    0\n",
       "ASSETS                                       0\n",
       "LIABILITIES                                  0\n",
       "GENERAL\\nVOTES                               0\n",
       "POSTAL\\nVOTES                                0\n",
       "TOTAL\\nVOTES                                 0\n",
       "OVER TOTAL ELECTORS \\nIN CONSTITUENCY        0\n",
       "OVER TOTAL VOTES POLLED \\nIN CONSTITUENCY    0\n",
       "TOTAL ELECTORS                               0\n",
       "dtype: int64"
      ]
     },
     "execution_count": 75,
     "metadata": {},
     "output_type": "execute_result"
    }
   ],
   "source": [
    "df.isnull().sum()"
   ]
  },
  {
   "cell_type": "markdown",
   "id": "67142c9d",
   "metadata": {},
   "source": [
    "#### Renaming columns"
   ]
  },
  {
   "cell_type": "code",
   "execution_count": 76,
   "id": "bca47730",
   "metadata": {},
   "outputs": [],
   "source": [
    "df.rename(columns={'CRIMINAL\\nCASES': 'CRIMINAL CASES', 'GENERAL\\nVOTES': 'GENERAL VOTES', \n",
    "                'POSTAL\\nVOTES': 'POSTAL VOTES', 'TOTAL\\nVOTES': 'TOTAL VOTES', \n",
    "                  'OVER TOTAL ELECTORS \\nIN CONSTITUENCY': 'PERCENT OF ELECTORS',\n",
    "                  'OVER TOTAL VOTES POLLED \\nIN CONSTITUENCY': 'PERCENT OF TOTAL VOTES'}, inplace=True)"
   ]
  },
  {
   "cell_type": "code",
   "execution_count": 77,
   "id": "7fe5ef6b",
   "metadata": {},
   "outputs": [
    {
     "data": {
      "text/plain": [
       "Index(['STATE', 'CONSTITUENCY', 'NAME', 'WINNER', 'PARTY', 'SYMBOL', 'GENDER',\n",
       "       'CRIMINAL CASES', 'AGE', 'CATEGORY', 'EDUCATION', 'ASSETS',\n",
       "       'LIABILITIES', 'GENERAL VOTES', 'POSTAL VOTES', 'TOTAL VOTES',\n",
       "       'PERCENT OF ELECTORS', 'PERCENT OF TOTAL VOTES', 'TOTAL ELECTORS'],\n",
       "      dtype='object')"
      ]
     },
     "execution_count": 77,
     "metadata": {},
     "output_type": "execute_result"
    }
   ],
   "source": [
    "df.columns"
   ]
  },
  {
   "cell_type": "code",
   "execution_count": 78,
   "id": "9e02f365",
   "metadata": {},
   "outputs": [],
   "source": [
    "df.rename(str.lower, axis='columns', inplace=True)"
   ]
  },
  {
   "cell_type": "code",
   "execution_count": 79,
   "id": "830f27e6",
   "metadata": {},
   "outputs": [
    {
     "data": {
      "text/plain": [
       "Index(['state', 'constituency', 'name', 'winner', 'party', 'symbol', 'gender',\n",
       "       'criminal cases', 'age', 'category', 'education', 'assets',\n",
       "       'liabilities', 'general votes', 'postal votes', 'total votes',\n",
       "       'percent of electors', 'percent of total votes', 'total electors'],\n",
       "      dtype='object')"
      ]
     },
     "execution_count": 79,
     "metadata": {},
     "output_type": "execute_result"
    }
   ],
   "source": [
    "df.columns"
   ]
  },
  {
   "cell_type": "code",
   "execution_count": 80,
   "id": "a58060ae",
   "metadata": {},
   "outputs": [
    {
     "data": {
      "text/plain": [
       "Index(['state', 'constituency', 'name', 'party', 'symbol', 'gender',\n",
       "       'criminal cases', 'category', 'education', 'assets', 'liabilities'],\n",
       "      dtype='object')"
      ]
     },
     "execution_count": 80,
     "metadata": {},
     "output_type": "execute_result"
    }
   ],
   "source": [
    "df.select_dtypes(include='object').columns"
   ]
  },
  {
   "cell_type": "markdown",
   "id": "24b3d769",
   "metadata": {},
   "source": [
    "### Cleaning other columns"
   ]
  },
  {
   "cell_type": "code",
   "execution_count": 81,
   "id": "6c509d40",
   "metadata": {},
   "outputs": [],
   "source": [
    "def cleaning(data):\n",
    "    not_number = []\n",
    "    for value in data:\n",
    "        try:\n",
    "            float(value)\n",
    "        except ValueError:\n",
    "            if value in not_number:\n",
    "                continue\n",
    "            else:\n",
    "                not_number.append(value)\n",
    "    return not_number"
   ]
  },
  {
   "cell_type": "code",
   "execution_count": 82,
   "id": "8ebd4fb9",
   "metadata": {
    "scrolled": false
   },
   "outputs": [
    {
     "name": "stdout",
     "output_type": "stream",
     "text": [
      "['Not Available']\n"
     ]
    }
   ],
   "source": [
    "list_1 = cleaning(df['criminal cases'])\n",
    "print(list_1)"
   ]
  },
  {
   "cell_type": "code",
   "execution_count": 83,
   "id": "bafb0985",
   "metadata": {},
   "outputs": [
    {
     "data": {
      "text/html": [
       "<div>\n",
       "<style scoped>\n",
       "    .dataframe tbody tr th:only-of-type {\n",
       "        vertical-align: middle;\n",
       "    }\n",
       "\n",
       "    .dataframe tbody tr th {\n",
       "        vertical-align: top;\n",
       "    }\n",
       "\n",
       "    .dataframe thead th {\n",
       "        text-align: right;\n",
       "    }\n",
       "</style>\n",
       "<table border=\"1\" class=\"dataframe\">\n",
       "  <thead>\n",
       "    <tr style=\"text-align: right;\">\n",
       "      <th></th>\n",
       "      <th>assets</th>\n",
       "      <th>liabilities</th>\n",
       "    </tr>\n",
       "  </thead>\n",
       "  <tbody>\n",
       "    <tr>\n",
       "      <th>0</th>\n",
       "      <td>3099414</td>\n",
       "      <td>231450</td>\n",
       "    </tr>\n",
       "    <tr>\n",
       "      <th>1</th>\n",
       "      <td>18477888</td>\n",
       "      <td>847000</td>\n",
       "    </tr>\n",
       "    <tr>\n",
       "      <th>2</th>\n",
       "      <td>36491000</td>\n",
       "      <td>15300000</td>\n",
       "    </tr>\n",
       "    <tr>\n",
       "      <th>4</th>\n",
       "      <td>74274036</td>\n",
       "      <td>8606522</td>\n",
       "    </tr>\n",
       "    <tr>\n",
       "      <th>5</th>\n",
       "      <td>133784385</td>\n",
       "      <td>22251891</td>\n",
       "    </tr>\n",
       "  </tbody>\n",
       "</table>\n",
       "</div>"
      ],
      "text/plain": [
       "       assets liabilities\n",
       "0     3099414      231450\n",
       "1    18477888      847000\n",
       "2    36491000    15300000\n",
       "4    74274036     8606522\n",
       "5   133784385    22251891"
      ]
     },
     "execution_count": 83,
     "metadata": {},
     "output_type": "execute_result"
    }
   ],
   "source": [
    "df['assets'] = df['assets'].str.split('\\n').str[0]\n",
    "df['liabilities'] = df['liabilities'].str.split('\\n').str[0]\n",
    "df['assets'] = df['assets'].str.lstrip('Rs').str.replace(',','')\n",
    "df['liabilities'] = df['liabilities'].str.lstrip('Rs').str.replace(',','')\n",
    "df[['assets', 'liabilities']].head()"
   ]
  },
  {
   "cell_type": "code",
   "execution_count": 84,
   "id": "e1834ee1",
   "metadata": {},
   "outputs": [
    {
     "name": "stdout",
     "output_type": "stream",
     "text": [
      "['Nil', 'Not Available', '`']\n",
      "['NIL', 'Not Available']\n"
     ]
    }
   ],
   "source": [
    "list_2 = cleaning(df['assets'])\n",
    "list_3 = cleaning(df['liabilities'])\n",
    "print(list_2)\n",
    "print(list_3)"
   ]
  },
  {
   "cell_type": "code",
   "execution_count": 85,
   "id": "afaa3253",
   "metadata": {},
   "outputs": [],
   "source": [
    "df['criminal cases'] = df['criminal cases'].replace(list_1, 0)\n",
    "df['assets'] = df['assets'].replace(list_2, 0)\n",
    "df['liabilities'] = df['liabilities'].replace(list_3, 0)"
   ]
  },
  {
   "cell_type": "code",
   "execution_count": 86,
   "id": "b2b64d96",
   "metadata": {},
   "outputs": [],
   "source": [
    "df['criminal cases'] = pd.to_numeric(df['criminal cases'])\n",
    "df['assets'] = pd.to_numeric(df['assets'])\n",
    "df['liabilities'] = pd.to_numeric(df['liabilities'])"
   ]
  },
  {
   "cell_type": "code",
   "execution_count": 87,
   "id": "8726bc2c",
   "metadata": {},
   "outputs": [
    {
     "name": "stdout",
     "output_type": "stream",
     "text": [
      "int64\n",
      "int64\n",
      "int64\n"
     ]
    }
   ],
   "source": [
    "print(df['criminal cases'].dtype)\n",
    "print(df['assets'].dtype)\n",
    "print(df['liabilities'].dtype)"
   ]
  },
  {
   "cell_type": "code",
   "execution_count": 88,
   "id": "172d28a6",
   "metadata": {},
   "outputs": [],
   "source": [
    "df.replace({'education': {'Not Available': 'Others', 'Post Graduate\\n': 'Post Graduate', 'Graduate Professional': 'Graduate'}}, inplace = True)"
   ]
  },
  {
   "cell_type": "code",
   "execution_count": 89,
   "id": "ed621c9a",
   "metadata": {},
   "outputs": [
    {
     "data": {
      "text/plain": [
       "Graduate         777\n",
       "Post Graduate    503\n",
       "12th Pass        256\n",
       "10th Pass        196\n",
       "8th Pass          78\n",
       "Doctorate         73\n",
       "Others            72\n",
       "Literate          30\n",
       "5th Pass          28\n",
       "Illiterate         5\n",
       "Name: education, dtype: int64"
      ]
     },
     "execution_count": 89,
     "metadata": {},
     "output_type": "execute_result"
    }
   ],
   "source": [
    "df.education.value_counts()"
   ]
  },
  {
   "cell_type": "markdown",
   "id": "066be485",
   "metadata": {},
   "source": [
    "#### Writing the cleaned data to a new CSV file"
   ]
  },
  {
   "cell_type": "code",
   "execution_count": 90,
   "id": "b855136d",
   "metadata": {},
   "outputs": [],
   "source": [
    "#df.to_csv('cleaned_election.csv', index=False)"
   ]
  },
  {
   "cell_type": "code",
   "execution_count": 91,
   "id": "c42cf0bf",
   "metadata": {
    "scrolled": true
   },
   "outputs": [
    {
     "data": {
      "text/html": [
       "<div>\n",
       "<style scoped>\n",
       "    .dataframe tbody tr th:only-of-type {\n",
       "        vertical-align: middle;\n",
       "    }\n",
       "\n",
       "    .dataframe tbody tr th {\n",
       "        vertical-align: top;\n",
       "    }\n",
       "\n",
       "    .dataframe thead th {\n",
       "        text-align: right;\n",
       "    }\n",
       "</style>\n",
       "<table border=\"1\" class=\"dataframe\">\n",
       "  <thead>\n",
       "    <tr style=\"text-align: right;\">\n",
       "      <th></th>\n",
       "      <th>state</th>\n",
       "      <th>constituency</th>\n",
       "      <th>name</th>\n",
       "      <th>winner</th>\n",
       "      <th>party</th>\n",
       "      <th>symbol</th>\n",
       "      <th>gender</th>\n",
       "      <th>criminal cases</th>\n",
       "      <th>age</th>\n",
       "      <th>category</th>\n",
       "      <th>education</th>\n",
       "      <th>assets</th>\n",
       "      <th>liabilities</th>\n",
       "      <th>general votes</th>\n",
       "      <th>postal votes</th>\n",
       "      <th>total votes</th>\n",
       "      <th>percent of electors</th>\n",
       "      <th>percent of total votes</th>\n",
       "      <th>total electors</th>\n",
       "    </tr>\n",
       "  </thead>\n",
       "  <tbody>\n",
       "    <tr>\n",
       "      <th>0</th>\n",
       "      <td>Telangana</td>\n",
       "      <td>ADILABAD</td>\n",
       "      <td>SOYAM BAPU RAO</td>\n",
       "      <td>1</td>\n",
       "      <td>BJP</td>\n",
       "      <td>Lotus</td>\n",
       "      <td>MALE</td>\n",
       "      <td>52</td>\n",
       "      <td>52.0</td>\n",
       "      <td>ST</td>\n",
       "      <td>12th Pass</td>\n",
       "      <td>3099414</td>\n",
       "      <td>231450</td>\n",
       "      <td>376892</td>\n",
       "      <td>482</td>\n",
       "      <td>377374</td>\n",
       "      <td>25.330684</td>\n",
       "      <td>35.468248</td>\n",
       "      <td>1489790</td>\n",
       "    </tr>\n",
       "    <tr>\n",
       "      <th>1</th>\n",
       "      <td>Telangana</td>\n",
       "      <td>ADILABAD</td>\n",
       "      <td>Godam Nagesh</td>\n",
       "      <td>0</td>\n",
       "      <td>TRS</td>\n",
       "      <td>Car</td>\n",
       "      <td>MALE</td>\n",
       "      <td>0</td>\n",
       "      <td>54.0</td>\n",
       "      <td>ST</td>\n",
       "      <td>Post Graduate</td>\n",
       "      <td>18477888</td>\n",
       "      <td>847000</td>\n",
       "      <td>318665</td>\n",
       "      <td>149</td>\n",
       "      <td>318814</td>\n",
       "      <td>21.399929</td>\n",
       "      <td>29.964370</td>\n",
       "      <td>1489790</td>\n",
       "    </tr>\n",
       "    <tr>\n",
       "      <th>2</th>\n",
       "      <td>Telangana</td>\n",
       "      <td>ADILABAD</td>\n",
       "      <td>RATHOD RAMESH</td>\n",
       "      <td>0</td>\n",
       "      <td>INC</td>\n",
       "      <td>Hand</td>\n",
       "      <td>MALE</td>\n",
       "      <td>3</td>\n",
       "      <td>52.0</td>\n",
       "      <td>ST</td>\n",
       "      <td>12th Pass</td>\n",
       "      <td>36491000</td>\n",
       "      <td>15300000</td>\n",
       "      <td>314057</td>\n",
       "      <td>181</td>\n",
       "      <td>314238</td>\n",
       "      <td>21.092771</td>\n",
       "      <td>29.534285</td>\n",
       "      <td>1489790</td>\n",
       "    </tr>\n",
       "  </tbody>\n",
       "</table>\n",
       "</div>"
      ],
      "text/plain": [
       "       state constituency            name  winner party symbol gender  \\\n",
       "0  Telangana     ADILABAD  SOYAM BAPU RAO       1   BJP  Lotus   MALE   \n",
       "1  Telangana     ADILABAD    Godam Nagesh       0   TRS    Car   MALE   \n",
       "2  Telangana     ADILABAD   RATHOD RAMESH       0   INC   Hand   MALE   \n",
       "\n",
       "   criminal cases   age category      education    assets  liabilities  \\\n",
       "0              52  52.0       ST      12th Pass   3099414       231450   \n",
       "1               0  54.0       ST  Post Graduate  18477888       847000   \n",
       "2               3  52.0       ST      12th Pass  36491000     15300000   \n",
       "\n",
       "   general votes  postal votes  total votes  percent of electors  \\\n",
       "0         376892           482       377374            25.330684   \n",
       "1         318665           149       318814            21.399929   \n",
       "2         314057           181       314238            21.092771   \n",
       "\n",
       "   percent of total votes  total electors  \n",
       "0               35.468248         1489790  \n",
       "1               29.964370         1489790  \n",
       "2               29.534285         1489790  "
      ]
     },
     "execution_count": 91,
     "metadata": {},
     "output_type": "execute_result"
    }
   ],
   "source": [
    "df.head(3)"
   ]
  },
  {
   "cell_type": "markdown",
   "id": "6d16c94c",
   "metadata": {},
   "source": [
    "### Encoding"
   ]
  },
  {
   "cell_type": "markdown",
   "id": "5b5590f6",
   "metadata": {},
   "source": [
    "#### Label encoding gender column"
   ]
  },
  {
   "cell_type": "code",
   "execution_count": 93,
   "id": "78fbd66e",
   "metadata": {},
   "outputs": [],
   "source": [
    "le = LabelEncoder()"
   ]
  },
  {
   "cell_type": "code",
   "execution_count": 94,
   "id": "1aae46b4",
   "metadata": {},
   "outputs": [
    {
     "data": {
      "text/plain": [
       "1    1760\n",
       "0     258\n",
       "Name: gender, dtype: int64"
      ]
     },
     "execution_count": 94,
     "metadata": {},
     "output_type": "execute_result"
    }
   ],
   "source": [
    "df['gender'] = le.fit_transform(df['gender'])\n",
    "df['gender'].value_counts()"
   ]
  },
  {
   "cell_type": "markdown",
   "id": "cdf9b860",
   "metadata": {},
   "source": [
    "#### One-hot encoding"
   ]
  },
  {
   "cell_type": "code",
   "execution_count": 95,
   "id": "f8885179",
   "metadata": {},
   "outputs": [
    {
     "data": {
      "text/html": [
       "<div>\n",
       "<style scoped>\n",
       "    .dataframe tbody tr th:only-of-type {\n",
       "        vertical-align: middle;\n",
       "    }\n",
       "\n",
       "    .dataframe tbody tr th {\n",
       "        vertical-align: top;\n",
       "    }\n",
       "\n",
       "    .dataframe thead th {\n",
       "        text-align: right;\n",
       "    }\n",
       "</style>\n",
       "<table border=\"1\" class=\"dataframe\">\n",
       "  <thead>\n",
       "    <tr style=\"text-align: right;\">\n",
       "      <th></th>\n",
       "      <th>name</th>\n",
       "      <th>winner</th>\n",
       "      <th>symbol</th>\n",
       "      <th>gender</th>\n",
       "      <th>criminal cases</th>\n",
       "      <th>age</th>\n",
       "      <th>education</th>\n",
       "      <th>assets</th>\n",
       "      <th>liabilities</th>\n",
       "      <th>general votes</th>\n",
       "      <th>...</th>\n",
       "      <th>constituency_VILUPPURAM</th>\n",
       "      <th>constituency_VIRUDHUNAGAR</th>\n",
       "      <th>constituency_VISAKHAPATNAM</th>\n",
       "      <th>constituency_VIZIANAGARAM</th>\n",
       "      <th>constituency_WARANGAL</th>\n",
       "      <th>constituency_WARDHA</th>\n",
       "      <th>constituency_WAYANAD</th>\n",
       "      <th>constituency_WEST DELHI</th>\n",
       "      <th>constituency_YAVATMAL-WASHIM</th>\n",
       "      <th>constituency_ZAHIRABAD</th>\n",
       "    </tr>\n",
       "  </thead>\n",
       "  <tbody>\n",
       "    <tr>\n",
       "      <th>0</th>\n",
       "      <td>SOYAM BAPU RAO</td>\n",
       "      <td>1</td>\n",
       "      <td>Lotus</td>\n",
       "      <td>1</td>\n",
       "      <td>52</td>\n",
       "      <td>52.0</td>\n",
       "      <td>12th Pass</td>\n",
       "      <td>3099414</td>\n",
       "      <td>231450</td>\n",
       "      <td>376892</td>\n",
       "      <td>...</td>\n",
       "      <td>0</td>\n",
       "      <td>0</td>\n",
       "      <td>0</td>\n",
       "      <td>0</td>\n",
       "      <td>0</td>\n",
       "      <td>0</td>\n",
       "      <td>0</td>\n",
       "      <td>0</td>\n",
       "      <td>0</td>\n",
       "      <td>0</td>\n",
       "    </tr>\n",
       "    <tr>\n",
       "      <th>1</th>\n",
       "      <td>Godam Nagesh</td>\n",
       "      <td>0</td>\n",
       "      <td>Car</td>\n",
       "      <td>1</td>\n",
       "      <td>0</td>\n",
       "      <td>54.0</td>\n",
       "      <td>Post Graduate</td>\n",
       "      <td>18477888</td>\n",
       "      <td>847000</td>\n",
       "      <td>318665</td>\n",
       "      <td>...</td>\n",
       "      <td>0</td>\n",
       "      <td>0</td>\n",
       "      <td>0</td>\n",
       "      <td>0</td>\n",
       "      <td>0</td>\n",
       "      <td>0</td>\n",
       "      <td>0</td>\n",
       "      <td>0</td>\n",
       "      <td>0</td>\n",
       "      <td>0</td>\n",
       "    </tr>\n",
       "    <tr>\n",
       "      <th>2</th>\n",
       "      <td>RATHOD RAMESH</td>\n",
       "      <td>0</td>\n",
       "      <td>Hand</td>\n",
       "      <td>1</td>\n",
       "      <td>3</td>\n",
       "      <td>52.0</td>\n",
       "      <td>12th Pass</td>\n",
       "      <td>36491000</td>\n",
       "      <td>15300000</td>\n",
       "      <td>314057</td>\n",
       "      <td>...</td>\n",
       "      <td>0</td>\n",
       "      <td>0</td>\n",
       "      <td>0</td>\n",
       "      <td>0</td>\n",
       "      <td>0</td>\n",
       "      <td>0</td>\n",
       "      <td>0</td>\n",
       "      <td>0</td>\n",
       "      <td>0</td>\n",
       "      <td>0</td>\n",
       "    </tr>\n",
       "    <tr>\n",
       "      <th>4</th>\n",
       "      <td>Satyapal Singh Baghel</td>\n",
       "      <td>1</td>\n",
       "      <td>Lotus</td>\n",
       "      <td>1</td>\n",
       "      <td>5</td>\n",
       "      <td>58.0</td>\n",
       "      <td>Doctorate</td>\n",
       "      <td>74274036</td>\n",
       "      <td>8606522</td>\n",
       "      <td>644459</td>\n",
       "      <td>...</td>\n",
       "      <td>0</td>\n",
       "      <td>0</td>\n",
       "      <td>0</td>\n",
       "      <td>0</td>\n",
       "      <td>0</td>\n",
       "      <td>0</td>\n",
       "      <td>0</td>\n",
       "      <td>0</td>\n",
       "      <td>0</td>\n",
       "      <td>0</td>\n",
       "    </tr>\n",
       "    <tr>\n",
       "      <th>5</th>\n",
       "      <td>Manoj Kumar Soni</td>\n",
       "      <td>0</td>\n",
       "      <td>Elephant</td>\n",
       "      <td>1</td>\n",
       "      <td>0</td>\n",
       "      <td>47.0</td>\n",
       "      <td>Post Graduate</td>\n",
       "      <td>133784385</td>\n",
       "      <td>22251891</td>\n",
       "      <td>434199</td>\n",
       "      <td>...</td>\n",
       "      <td>0</td>\n",
       "      <td>0</td>\n",
       "      <td>0</td>\n",
       "      <td>0</td>\n",
       "      <td>0</td>\n",
       "      <td>0</td>\n",
       "      <td>0</td>\n",
       "      <td>0</td>\n",
       "      <td>0</td>\n",
       "      <td>0</td>\n",
       "    </tr>\n",
       "  </tbody>\n",
       "</table>\n",
       "<p>5 rows × 725 columns</p>\n",
       "</div>"
      ],
      "text/plain": [
       "                    name  winner    symbol  gender  criminal cases   age  \\\n",
       "0         SOYAM BAPU RAO       1     Lotus       1              52  52.0   \n",
       "1           Godam Nagesh       0       Car       1               0  54.0   \n",
       "2          RATHOD RAMESH       0      Hand       1               3  52.0   \n",
       "4  Satyapal Singh Baghel       1     Lotus       1               5  58.0   \n",
       "5       Manoj Kumar Soni       0  Elephant       1               0  47.0   \n",
       "\n",
       "       education     assets  liabilities  general votes  ...  \\\n",
       "0      12th Pass    3099414       231450         376892  ...   \n",
       "1  Post Graduate   18477888       847000         318665  ...   \n",
       "2      12th Pass   36491000     15300000         314057  ...   \n",
       "4      Doctorate   74274036      8606522         644459  ...   \n",
       "5  Post Graduate  133784385     22251891         434199  ...   \n",
       "\n",
       "   constituency_VILUPPURAM  constituency_VIRUDHUNAGAR  \\\n",
       "0                        0                          0   \n",
       "1                        0                          0   \n",
       "2                        0                          0   \n",
       "4                        0                          0   \n",
       "5                        0                          0   \n",
       "\n",
       "   constituency_VISAKHAPATNAM  constituency_VIZIANAGARAM  \\\n",
       "0                           0                          0   \n",
       "1                           0                          0   \n",
       "2                           0                          0   \n",
       "4                           0                          0   \n",
       "5                           0                          0   \n",
       "\n",
       "   constituency_WARANGAL  constituency_WARDHA  constituency_WAYANAD  \\\n",
       "0                      0                    0                     0   \n",
       "1                      0                    0                     0   \n",
       "2                      0                    0                     0   \n",
       "4                      0                    0                     0   \n",
       "5                      0                    0                     0   \n",
       "\n",
       "   constituency_WEST DELHI  constituency_YAVATMAL-WASHIM  \\\n",
       "0                        0                             0   \n",
       "1                        0                             0   \n",
       "2                        0                             0   \n",
       "4                        0                             0   \n",
       "5                        0                             0   \n",
       "\n",
       "   constituency_ZAHIRABAD  \n",
       "0                       0  \n",
       "1                       0  \n",
       "2                       0  \n",
       "4                       0  \n",
       "5                       0  \n",
       "\n",
       "[5 rows x 725 columns]"
      ]
     },
     "execution_count": 95,
     "metadata": {},
     "output_type": "execute_result"
    }
   ],
   "source": [
    "df = pd.get_dummies(data=df, columns=['party', 'state', 'category', 'constituency'])\n",
    "df.head()"
   ]
  },
  {
   "cell_type": "markdown",
   "id": "48aae0d2",
   "metadata": {},
   "source": [
    "#### Ordinal encoding"
   ]
  },
  {
   "cell_type": "code",
   "execution_count": 96,
   "id": "9648c4dd",
   "metadata": {},
   "outputs": [],
   "source": [
    "edu_dict = {'Illiterate': 0, 'Literate': 1, '5th Pass': 2, '8th Pass': 3, '10th Pass': 4, \n",
    " 'Others': 5, '12th Pass': 6, 'Graduate': 7, 'Post Graduate': 8, 'Doctorate': 9}"
   ]
  },
  {
   "cell_type": "code",
   "execution_count": 97,
   "id": "929c327e",
   "metadata": {},
   "outputs": [
    {
     "data": {
      "text/plain": [
       "7    777\n",
       "8    503\n",
       "6    256\n",
       "4    196\n",
       "3     78\n",
       "9     73\n",
       "5     72\n",
       "1     30\n",
       "2     28\n",
       "0      5\n",
       "Name: education, dtype: int64"
      ]
     },
     "execution_count": 97,
     "metadata": {},
     "output_type": "execute_result"
    }
   ],
   "source": [
    "df.replace({'education': edu_dict}, inplace=True)\n",
    "df['education'].value_counts()"
   ]
  },
  {
   "cell_type": "markdown",
   "id": "ced72349",
   "metadata": {},
   "source": [
    "### Removing unnecessary features"
   ]
  },
  {
   "cell_type": "code",
   "execution_count": 98,
   "id": "0f8ad0f3",
   "metadata": {},
   "outputs": [
    {
     "data": {
      "text/html": [
       "<div>\n",
       "<style scoped>\n",
       "    .dataframe tbody tr th:only-of-type {\n",
       "        vertical-align: middle;\n",
       "    }\n",
       "\n",
       "    .dataframe tbody tr th {\n",
       "        vertical-align: top;\n",
       "    }\n",
       "\n",
       "    .dataframe thead th {\n",
       "        text-align: right;\n",
       "    }\n",
       "</style>\n",
       "<table border=\"1\" class=\"dataframe\">\n",
       "  <thead>\n",
       "    <tr style=\"text-align: right;\">\n",
       "      <th></th>\n",
       "      <th>winner</th>\n",
       "      <th>gender</th>\n",
       "      <th>criminal cases</th>\n",
       "      <th>age</th>\n",
       "      <th>education</th>\n",
       "      <th>assets</th>\n",
       "      <th>liabilities</th>\n",
       "      <th>general votes</th>\n",
       "      <th>postal votes</th>\n",
       "      <th>total votes</th>\n",
       "      <th>...</th>\n",
       "      <th>constituency_VILUPPURAM</th>\n",
       "      <th>constituency_VIRUDHUNAGAR</th>\n",
       "      <th>constituency_VISAKHAPATNAM</th>\n",
       "      <th>constituency_VIZIANAGARAM</th>\n",
       "      <th>constituency_WARANGAL</th>\n",
       "      <th>constituency_WARDHA</th>\n",
       "      <th>constituency_WAYANAD</th>\n",
       "      <th>constituency_WEST DELHI</th>\n",
       "      <th>constituency_YAVATMAL-WASHIM</th>\n",
       "      <th>constituency_ZAHIRABAD</th>\n",
       "    </tr>\n",
       "  </thead>\n",
       "  <tbody>\n",
       "    <tr>\n",
       "      <th>0</th>\n",
       "      <td>1</td>\n",
       "      <td>1</td>\n",
       "      <td>52</td>\n",
       "      <td>52.0</td>\n",
       "      <td>6</td>\n",
       "      <td>3099414</td>\n",
       "      <td>231450</td>\n",
       "      <td>376892</td>\n",
       "      <td>482</td>\n",
       "      <td>377374</td>\n",
       "      <td>...</td>\n",
       "      <td>0</td>\n",
       "      <td>0</td>\n",
       "      <td>0</td>\n",
       "      <td>0</td>\n",
       "      <td>0</td>\n",
       "      <td>0</td>\n",
       "      <td>0</td>\n",
       "      <td>0</td>\n",
       "      <td>0</td>\n",
       "      <td>0</td>\n",
       "    </tr>\n",
       "    <tr>\n",
       "      <th>1</th>\n",
       "      <td>0</td>\n",
       "      <td>1</td>\n",
       "      <td>0</td>\n",
       "      <td>54.0</td>\n",
       "      <td>8</td>\n",
       "      <td>18477888</td>\n",
       "      <td>847000</td>\n",
       "      <td>318665</td>\n",
       "      <td>149</td>\n",
       "      <td>318814</td>\n",
       "      <td>...</td>\n",
       "      <td>0</td>\n",
       "      <td>0</td>\n",
       "      <td>0</td>\n",
       "      <td>0</td>\n",
       "      <td>0</td>\n",
       "      <td>0</td>\n",
       "      <td>0</td>\n",
       "      <td>0</td>\n",
       "      <td>0</td>\n",
       "      <td>0</td>\n",
       "    </tr>\n",
       "    <tr>\n",
       "      <th>2</th>\n",
       "      <td>0</td>\n",
       "      <td>1</td>\n",
       "      <td>3</td>\n",
       "      <td>52.0</td>\n",
       "      <td>6</td>\n",
       "      <td>36491000</td>\n",
       "      <td>15300000</td>\n",
       "      <td>314057</td>\n",
       "      <td>181</td>\n",
       "      <td>314238</td>\n",
       "      <td>...</td>\n",
       "      <td>0</td>\n",
       "      <td>0</td>\n",
       "      <td>0</td>\n",
       "      <td>0</td>\n",
       "      <td>0</td>\n",
       "      <td>0</td>\n",
       "      <td>0</td>\n",
       "      <td>0</td>\n",
       "      <td>0</td>\n",
       "      <td>0</td>\n",
       "    </tr>\n",
       "    <tr>\n",
       "      <th>4</th>\n",
       "      <td>1</td>\n",
       "      <td>1</td>\n",
       "      <td>5</td>\n",
       "      <td>58.0</td>\n",
       "      <td>9</td>\n",
       "      <td>74274036</td>\n",
       "      <td>8606522</td>\n",
       "      <td>644459</td>\n",
       "      <td>2416</td>\n",
       "      <td>646875</td>\n",
       "      <td>...</td>\n",
       "      <td>0</td>\n",
       "      <td>0</td>\n",
       "      <td>0</td>\n",
       "      <td>0</td>\n",
       "      <td>0</td>\n",
       "      <td>0</td>\n",
       "      <td>0</td>\n",
       "      <td>0</td>\n",
       "      <td>0</td>\n",
       "      <td>0</td>\n",
       "    </tr>\n",
       "    <tr>\n",
       "      <th>5</th>\n",
       "      <td>0</td>\n",
       "      <td>1</td>\n",
       "      <td>0</td>\n",
       "      <td>47.0</td>\n",
       "      <td>8</td>\n",
       "      <td>133784385</td>\n",
       "      <td>22251891</td>\n",
       "      <td>434199</td>\n",
       "      <td>1130</td>\n",
       "      <td>435329</td>\n",
       "      <td>...</td>\n",
       "      <td>0</td>\n",
       "      <td>0</td>\n",
       "      <td>0</td>\n",
       "      <td>0</td>\n",
       "      <td>0</td>\n",
       "      <td>0</td>\n",
       "      <td>0</td>\n",
       "      <td>0</td>\n",
       "      <td>0</td>\n",
       "      <td>0</td>\n",
       "    </tr>\n",
       "  </tbody>\n",
       "</table>\n",
       "<p>5 rows × 723 columns</p>\n",
       "</div>"
      ],
      "text/plain": [
       "   winner  gender  criminal cases   age  education     assets  liabilities  \\\n",
       "0       1       1              52  52.0          6    3099414       231450   \n",
       "1       0       1               0  54.0          8   18477888       847000   \n",
       "2       0       1               3  52.0          6   36491000     15300000   \n",
       "4       1       1               5  58.0          9   74274036      8606522   \n",
       "5       0       1               0  47.0          8  133784385     22251891   \n",
       "\n",
       "   general votes  postal votes  total votes  ...  constituency_VILUPPURAM  \\\n",
       "0         376892           482       377374  ...                        0   \n",
       "1         318665           149       318814  ...                        0   \n",
       "2         314057           181       314238  ...                        0   \n",
       "4         644459          2416       646875  ...                        0   \n",
       "5         434199          1130       435329  ...                        0   \n",
       "\n",
       "   constituency_VIRUDHUNAGAR  constituency_VISAKHAPATNAM  \\\n",
       "0                          0                           0   \n",
       "1                          0                           0   \n",
       "2                          0                           0   \n",
       "4                          0                           0   \n",
       "5                          0                           0   \n",
       "\n",
       "   constituency_VIZIANAGARAM  constituency_WARANGAL  constituency_WARDHA  \\\n",
       "0                          0                      0                    0   \n",
       "1                          0                      0                    0   \n",
       "2                          0                      0                    0   \n",
       "4                          0                      0                    0   \n",
       "5                          0                      0                    0   \n",
       "\n",
       "   constituency_WAYANAD  constituency_WEST DELHI  \\\n",
       "0                     0                        0   \n",
       "1                     0                        0   \n",
       "2                     0                        0   \n",
       "4                     0                        0   \n",
       "5                     0                        0   \n",
       "\n",
       "   constituency_YAVATMAL-WASHIM  constituency_ZAHIRABAD  \n",
       "0                             0                       0  \n",
       "1                             0                       0  \n",
       "2                             0                       0  \n",
       "4                             0                       0  \n",
       "5                             0                       0  \n",
       "\n",
       "[5 rows x 723 columns]"
      ]
     },
     "execution_count": 98,
     "metadata": {},
     "output_type": "execute_result"
    }
   ],
   "source": [
    "df.drop(columns=['name', 'symbol'], axis=1, inplace=True)\n",
    "df.head()"
   ]
  },
  {
   "cell_type": "markdown",
   "id": "ef420d0e",
   "metadata": {},
   "source": [
    "### Adding new feature"
   ]
  },
  {
   "cell_type": "code",
   "execution_count": 99,
   "id": "40a7601b",
   "metadata": {},
   "outputs": [
    {
     "data": {
      "text/html": [
       "<div>\n",
       "<style scoped>\n",
       "    .dataframe tbody tr th:only-of-type {\n",
       "        vertical-align: middle;\n",
       "    }\n",
       "\n",
       "    .dataframe tbody tr th {\n",
       "        vertical-align: top;\n",
       "    }\n",
       "\n",
       "    .dataframe thead th {\n",
       "        text-align: right;\n",
       "    }\n",
       "</style>\n",
       "<table border=\"1\" class=\"dataframe\">\n",
       "  <thead>\n",
       "    <tr style=\"text-align: right;\">\n",
       "      <th></th>\n",
       "      <th>winner</th>\n",
       "      <th>gender</th>\n",
       "      <th>criminal cases</th>\n",
       "      <th>age</th>\n",
       "      <th>education</th>\n",
       "      <th>assets</th>\n",
       "      <th>liabilities</th>\n",
       "      <th>general votes</th>\n",
       "      <th>postal votes</th>\n",
       "      <th>total votes</th>\n",
       "      <th>...</th>\n",
       "      <th>constituency_VIRUDHUNAGAR</th>\n",
       "      <th>constituency_VISAKHAPATNAM</th>\n",
       "      <th>constituency_VIZIANAGARAM</th>\n",
       "      <th>constituency_WARANGAL</th>\n",
       "      <th>constituency_WARDHA</th>\n",
       "      <th>constituency_WAYANAD</th>\n",
       "      <th>constituency_WEST DELHI</th>\n",
       "      <th>constituency_YAVATMAL-WASHIM</th>\n",
       "      <th>constituency_ZAHIRABAD</th>\n",
       "      <th>balance assets</th>\n",
       "    </tr>\n",
       "  </thead>\n",
       "  <tbody>\n",
       "    <tr>\n",
       "      <th>0</th>\n",
       "      <td>1</td>\n",
       "      <td>1</td>\n",
       "      <td>52</td>\n",
       "      <td>52.0</td>\n",
       "      <td>6</td>\n",
       "      <td>3099414</td>\n",
       "      <td>231450</td>\n",
       "      <td>376892</td>\n",
       "      <td>482</td>\n",
       "      <td>377374</td>\n",
       "      <td>...</td>\n",
       "      <td>0</td>\n",
       "      <td>0</td>\n",
       "      <td>0</td>\n",
       "      <td>0</td>\n",
       "      <td>0</td>\n",
       "      <td>0</td>\n",
       "      <td>0</td>\n",
       "      <td>0</td>\n",
       "      <td>0</td>\n",
       "      <td>2867964</td>\n",
       "    </tr>\n",
       "    <tr>\n",
       "      <th>1</th>\n",
       "      <td>0</td>\n",
       "      <td>1</td>\n",
       "      <td>0</td>\n",
       "      <td>54.0</td>\n",
       "      <td>8</td>\n",
       "      <td>18477888</td>\n",
       "      <td>847000</td>\n",
       "      <td>318665</td>\n",
       "      <td>149</td>\n",
       "      <td>318814</td>\n",
       "      <td>...</td>\n",
       "      <td>0</td>\n",
       "      <td>0</td>\n",
       "      <td>0</td>\n",
       "      <td>0</td>\n",
       "      <td>0</td>\n",
       "      <td>0</td>\n",
       "      <td>0</td>\n",
       "      <td>0</td>\n",
       "      <td>0</td>\n",
       "      <td>17630888</td>\n",
       "    </tr>\n",
       "    <tr>\n",
       "      <th>2</th>\n",
       "      <td>0</td>\n",
       "      <td>1</td>\n",
       "      <td>3</td>\n",
       "      <td>52.0</td>\n",
       "      <td>6</td>\n",
       "      <td>36491000</td>\n",
       "      <td>15300000</td>\n",
       "      <td>314057</td>\n",
       "      <td>181</td>\n",
       "      <td>314238</td>\n",
       "      <td>...</td>\n",
       "      <td>0</td>\n",
       "      <td>0</td>\n",
       "      <td>0</td>\n",
       "      <td>0</td>\n",
       "      <td>0</td>\n",
       "      <td>0</td>\n",
       "      <td>0</td>\n",
       "      <td>0</td>\n",
       "      <td>0</td>\n",
       "      <td>21191000</td>\n",
       "    </tr>\n",
       "    <tr>\n",
       "      <th>4</th>\n",
       "      <td>1</td>\n",
       "      <td>1</td>\n",
       "      <td>5</td>\n",
       "      <td>58.0</td>\n",
       "      <td>9</td>\n",
       "      <td>74274036</td>\n",
       "      <td>8606522</td>\n",
       "      <td>644459</td>\n",
       "      <td>2416</td>\n",
       "      <td>646875</td>\n",
       "      <td>...</td>\n",
       "      <td>0</td>\n",
       "      <td>0</td>\n",
       "      <td>0</td>\n",
       "      <td>0</td>\n",
       "      <td>0</td>\n",
       "      <td>0</td>\n",
       "      <td>0</td>\n",
       "      <td>0</td>\n",
       "      <td>0</td>\n",
       "      <td>65667514</td>\n",
       "    </tr>\n",
       "    <tr>\n",
       "      <th>5</th>\n",
       "      <td>0</td>\n",
       "      <td>1</td>\n",
       "      <td>0</td>\n",
       "      <td>47.0</td>\n",
       "      <td>8</td>\n",
       "      <td>133784385</td>\n",
       "      <td>22251891</td>\n",
       "      <td>434199</td>\n",
       "      <td>1130</td>\n",
       "      <td>435329</td>\n",
       "      <td>...</td>\n",
       "      <td>0</td>\n",
       "      <td>0</td>\n",
       "      <td>0</td>\n",
       "      <td>0</td>\n",
       "      <td>0</td>\n",
       "      <td>0</td>\n",
       "      <td>0</td>\n",
       "      <td>0</td>\n",
       "      <td>0</td>\n",
       "      <td>111532494</td>\n",
       "    </tr>\n",
       "  </tbody>\n",
       "</table>\n",
       "<p>5 rows × 724 columns</p>\n",
       "</div>"
      ],
      "text/plain": [
       "   winner  gender  criminal cases   age  education     assets  liabilities  \\\n",
       "0       1       1              52  52.0          6    3099414       231450   \n",
       "1       0       1               0  54.0          8   18477888       847000   \n",
       "2       0       1               3  52.0          6   36491000     15300000   \n",
       "4       1       1               5  58.0          9   74274036      8606522   \n",
       "5       0       1               0  47.0          8  133784385     22251891   \n",
       "\n",
       "   general votes  postal votes  total votes  ...  constituency_VIRUDHUNAGAR  \\\n",
       "0         376892           482       377374  ...                          0   \n",
       "1         318665           149       318814  ...                          0   \n",
       "2         314057           181       314238  ...                          0   \n",
       "4         644459          2416       646875  ...                          0   \n",
       "5         434199          1130       435329  ...                          0   \n",
       "\n",
       "   constituency_VISAKHAPATNAM  constituency_VIZIANAGARAM  \\\n",
       "0                           0                          0   \n",
       "1                           0                          0   \n",
       "2                           0                          0   \n",
       "4                           0                          0   \n",
       "5                           0                          0   \n",
       "\n",
       "   constituency_WARANGAL  constituency_WARDHA  constituency_WAYANAD  \\\n",
       "0                      0                    0                     0   \n",
       "1                      0                    0                     0   \n",
       "2                      0                    0                     0   \n",
       "4                      0                    0                     0   \n",
       "5                      0                    0                     0   \n",
       "\n",
       "   constituency_WEST DELHI  constituency_YAVATMAL-WASHIM  \\\n",
       "0                        0                             0   \n",
       "1                        0                             0   \n",
       "2                        0                             0   \n",
       "4                        0                             0   \n",
       "5                        0                             0   \n",
       "\n",
       "   constituency_ZAHIRABAD  balance assets  \n",
       "0                       0         2867964  \n",
       "1                       0        17630888  \n",
       "2                       0        21191000  \n",
       "4                       0        65667514  \n",
       "5                       0       111532494  \n",
       "\n",
       "[5 rows x 724 columns]"
      ]
     },
     "execution_count": 99,
     "metadata": {},
     "output_type": "execute_result"
    }
   ],
   "source": [
    "df['balance assets'] = df['assets'] - df['liabilities']\n",
    "df.head()"
   ]
  },
  {
   "cell_type": "markdown",
   "id": "fd05cda1",
   "metadata": {},
   "source": [
    "### Standard Scaling"
   ]
  },
  {
   "cell_type": "code",
   "execution_count": 100,
   "id": "d7c98743",
   "metadata": {},
   "outputs": [
    {
     "data": {
      "text/html": [
       "<div>\n",
       "<style scoped>\n",
       "    .dataframe tbody tr th:only-of-type {\n",
       "        vertical-align: middle;\n",
       "    }\n",
       "\n",
       "    .dataframe tbody tr th {\n",
       "        vertical-align: top;\n",
       "    }\n",
       "\n",
       "    .dataframe thead th {\n",
       "        text-align: right;\n",
       "    }\n",
       "</style>\n",
       "<table border=\"1\" class=\"dataframe\">\n",
       "  <thead>\n",
       "    <tr style=\"text-align: right;\">\n",
       "      <th></th>\n",
       "      <th>criminal cases</th>\n",
       "      <th>age</th>\n",
       "      <th>assets</th>\n",
       "      <th>liabilities</th>\n",
       "      <th>general votes</th>\n",
       "      <th>postal votes</th>\n",
       "      <th>total votes</th>\n",
       "      <th>percent of electors</th>\n",
       "      <th>percent of total votes</th>\n",
       "      <th>total electors</th>\n",
       "      <th>balance assets</th>\n",
       "      <th>education</th>\n",
       "    </tr>\n",
       "  </thead>\n",
       "  <tbody>\n",
       "    <tr>\n",
       "      <th>0</th>\n",
       "      <td>6.620242</td>\n",
       "      <td>-0.023051</td>\n",
       "      <td>-0.311731</td>\n",
       "      <td>-0.218126</td>\n",
       "      <td>0.336701</td>\n",
       "      <td>-0.375171</td>\n",
       "      <td>0.332957</td>\n",
       "      <td>0.519660</td>\n",
       "      <td>0.451418</td>\n",
       "      <td>-0.538876</td>\n",
       "      <td>-0.295544</td>\n",
       "      <td>-0.293924</td>\n",
       "    </tr>\n",
       "    <tr>\n",
       "      <th>1</th>\n",
       "      <td>-0.190426</td>\n",
       "      <td>0.145491</td>\n",
       "      <td>-0.274420</td>\n",
       "      <td>-0.211243</td>\n",
       "      <td>0.107942</td>\n",
       "      <td>-0.575668</td>\n",
       "      <td>0.103781</td>\n",
       "      <td>0.255542</td>\n",
       "      <td>0.194212</td>\n",
       "      <td>-0.538876</td>\n",
       "      <td>-0.255507</td>\n",
       "      <td>0.878286</td>\n",
       "    </tr>\n",
       "    <tr>\n",
       "      <th>2</th>\n",
       "      <td>0.202498</td>\n",
       "      <td>-0.023051</td>\n",
       "      <td>-0.230717</td>\n",
       "      <td>-0.049632</td>\n",
       "      <td>0.089838</td>\n",
       "      <td>-0.556401</td>\n",
       "      <td>0.085873</td>\n",
       "      <td>0.234903</td>\n",
       "      <td>0.174113</td>\n",
       "      <td>-0.538876</td>\n",
       "      <td>-0.245853</td>\n",
       "      <td>-0.293924</td>\n",
       "    </tr>\n",
       "    <tr>\n",
       "      <th>4</th>\n",
       "      <td>0.464446</td>\n",
       "      <td>0.482577</td>\n",
       "      <td>-0.139047</td>\n",
       "      <td>-0.124477</td>\n",
       "      <td>1.387908</td>\n",
       "      <td>0.789278</td>\n",
       "      <td>1.387657</td>\n",
       "      <td>1.060773</td>\n",
       "      <td>1.432617</td>\n",
       "      <td>0.876978</td>\n",
       "      <td>-0.125235</td>\n",
       "      <td>1.464391</td>\n",
       "    </tr>\n",
       "    <tr>\n",
       "      <th>5</th>\n",
       "      <td>-0.190426</td>\n",
       "      <td>-0.444408</td>\n",
       "      <td>0.005336</td>\n",
       "      <td>0.028103</td>\n",
       "      <td>0.561847</td>\n",
       "      <td>0.014986</td>\n",
       "      <td>0.559766</td>\n",
       "      <td>0.327201</td>\n",
       "      <td>0.569691</td>\n",
       "      <td>0.876978</td>\n",
       "      <td>-0.000851</td>\n",
       "      <td>0.878286</td>\n",
       "    </tr>\n",
       "  </tbody>\n",
       "</table>\n",
       "</div>"
      ],
      "text/plain": [
       "   criminal cases       age    assets  liabilities  general votes  \\\n",
       "0        6.620242 -0.023051 -0.311731    -0.218126       0.336701   \n",
       "1       -0.190426  0.145491 -0.274420    -0.211243       0.107942   \n",
       "2        0.202498 -0.023051 -0.230717    -0.049632       0.089838   \n",
       "4        0.464446  0.482577 -0.139047    -0.124477       1.387908   \n",
       "5       -0.190426 -0.444408  0.005336     0.028103       0.561847   \n",
       "\n",
       "   postal votes  total votes  percent of electors  percent of total votes  \\\n",
       "0     -0.375171     0.332957             0.519660                0.451418   \n",
       "1     -0.575668     0.103781             0.255542                0.194212   \n",
       "2     -0.556401     0.085873             0.234903                0.174113   \n",
       "4      0.789278     1.387657             1.060773                1.432617   \n",
       "5      0.014986     0.559766             0.327201                0.569691   \n",
       "\n",
       "   total electors  balance assets  education  \n",
       "0       -0.538876       -0.295544  -0.293924  \n",
       "1       -0.538876       -0.255507   0.878286  \n",
       "2       -0.538876       -0.245853  -0.293924  \n",
       "4        0.876978       -0.125235   1.464391  \n",
       "5        0.876978       -0.000851   0.878286  "
      ]
     },
     "execution_count": 100,
     "metadata": {},
     "output_type": "execute_result"
    }
   ],
   "source": [
    "columns_to_scale = ['criminal cases', 'age', 'assets',\n",
    "       'liabilities', 'general votes', 'postal votes', 'total votes', 'percent of electors', 'percent of total votes', 'total electors', 'balance assets', 'education']\n",
    "scalar = StandardScaler()\n",
    "df[columns_to_scale] = scalar.fit_transform(df[columns_to_scale])\n",
    "df[columns_to_scale].head()"
   ]
  },
  {
   "cell_type": "markdown",
   "id": "cb244625",
   "metadata": {},
   "source": [
    "## 2. Exploratory data analysis"
   ]
  },
  {
   "cell_type": "markdown",
   "id": "1193d01e",
   "metadata": {},
   "source": [
    "Using cleaned unscaled data"
   ]
  },
  {
   "cell_type": "code",
   "execution_count": 4,
   "id": "24636584",
   "metadata": {},
   "outputs": [
    {
     "data": {
      "text/html": [
       "<div>\n",
       "<style scoped>\n",
       "    .dataframe tbody tr th:only-of-type {\n",
       "        vertical-align: middle;\n",
       "    }\n",
       "\n",
       "    .dataframe tbody tr th {\n",
       "        vertical-align: top;\n",
       "    }\n",
       "\n",
       "    .dataframe thead th {\n",
       "        text-align: right;\n",
       "    }\n",
       "</style>\n",
       "<table border=\"1\" class=\"dataframe\">\n",
       "  <thead>\n",
       "    <tr style=\"text-align: right;\">\n",
       "      <th></th>\n",
       "      <th>state</th>\n",
       "      <th>constituency</th>\n",
       "      <th>name</th>\n",
       "      <th>winner</th>\n",
       "      <th>party</th>\n",
       "      <th>symbol</th>\n",
       "      <th>gender</th>\n",
       "      <th>criminal cases</th>\n",
       "      <th>age</th>\n",
       "      <th>category</th>\n",
       "      <th>education</th>\n",
       "      <th>assets</th>\n",
       "      <th>liabilities</th>\n",
       "      <th>general votes</th>\n",
       "      <th>postal votes</th>\n",
       "      <th>total votes</th>\n",
       "      <th>percent of electors</th>\n",
       "      <th>percent of total votes</th>\n",
       "      <th>total electors</th>\n",
       "    </tr>\n",
       "  </thead>\n",
       "  <tbody>\n",
       "    <tr>\n",
       "      <th>0</th>\n",
       "      <td>Telangana</td>\n",
       "      <td>ADILABAD</td>\n",
       "      <td>SOYAM BAPU RAO</td>\n",
       "      <td>1</td>\n",
       "      <td>BJP</td>\n",
       "      <td>Lotus</td>\n",
       "      <td>MALE</td>\n",
       "      <td>52</td>\n",
       "      <td>52.0</td>\n",
       "      <td>ST</td>\n",
       "      <td>12th Pass</td>\n",
       "      <td>3099414.0</td>\n",
       "      <td>231450.0</td>\n",
       "      <td>376892</td>\n",
       "      <td>482</td>\n",
       "      <td>377374</td>\n",
       "      <td>25.330684</td>\n",
       "      <td>35.468248</td>\n",
       "      <td>1489790</td>\n",
       "    </tr>\n",
       "    <tr>\n",
       "      <th>1</th>\n",
       "      <td>Telangana</td>\n",
       "      <td>ADILABAD</td>\n",
       "      <td>Godam Nagesh</td>\n",
       "      <td>0</td>\n",
       "      <td>TRS</td>\n",
       "      <td>Car</td>\n",
       "      <td>MALE</td>\n",
       "      <td>0</td>\n",
       "      <td>54.0</td>\n",
       "      <td>ST</td>\n",
       "      <td>Post Graduate</td>\n",
       "      <td>18477888.0</td>\n",
       "      <td>847000.0</td>\n",
       "      <td>318665</td>\n",
       "      <td>149</td>\n",
       "      <td>318814</td>\n",
       "      <td>21.399929</td>\n",
       "      <td>29.964370</td>\n",
       "      <td>1489790</td>\n",
       "    </tr>\n",
       "    <tr>\n",
       "      <th>2</th>\n",
       "      <td>Telangana</td>\n",
       "      <td>ADILABAD</td>\n",
       "      <td>RATHOD RAMESH</td>\n",
       "      <td>0</td>\n",
       "      <td>INC</td>\n",
       "      <td>Hand</td>\n",
       "      <td>MALE</td>\n",
       "      <td>3</td>\n",
       "      <td>52.0</td>\n",
       "      <td>ST</td>\n",
       "      <td>12th Pass</td>\n",
       "      <td>36491000.0</td>\n",
       "      <td>15300000.0</td>\n",
       "      <td>314057</td>\n",
       "      <td>181</td>\n",
       "      <td>314238</td>\n",
       "      <td>21.092771</td>\n",
       "      <td>29.534285</td>\n",
       "      <td>1489790</td>\n",
       "    </tr>\n",
       "    <tr>\n",
       "      <th>3</th>\n",
       "      <td>Uttar Pradesh</td>\n",
       "      <td>AGRA</td>\n",
       "      <td>Satyapal Singh Baghel</td>\n",
       "      <td>1</td>\n",
       "      <td>BJP</td>\n",
       "      <td>Lotus</td>\n",
       "      <td>MALE</td>\n",
       "      <td>5</td>\n",
       "      <td>58.0</td>\n",
       "      <td>SC</td>\n",
       "      <td>Doctorate</td>\n",
       "      <td>74274036.0</td>\n",
       "      <td>8606522.0</td>\n",
       "      <td>644459</td>\n",
       "      <td>2416</td>\n",
       "      <td>646875</td>\n",
       "      <td>33.383823</td>\n",
       "      <td>56.464615</td>\n",
       "      <td>1937690</td>\n",
       "    </tr>\n",
       "    <tr>\n",
       "      <th>4</th>\n",
       "      <td>Uttar Pradesh</td>\n",
       "      <td>AGRA</td>\n",
       "      <td>Manoj Kumar Soni</td>\n",
       "      <td>0</td>\n",
       "      <td>BSP</td>\n",
       "      <td>Elephant</td>\n",
       "      <td>MALE</td>\n",
       "      <td>0</td>\n",
       "      <td>47.0</td>\n",
       "      <td>SC</td>\n",
       "      <td>Post Graduate</td>\n",
       "      <td>133784385.0</td>\n",
       "      <td>22251891.0</td>\n",
       "      <td>434199</td>\n",
       "      <td>1130</td>\n",
       "      <td>435329</td>\n",
       "      <td>22.466390</td>\n",
       "      <td>37.999125</td>\n",
       "      <td>1937690</td>\n",
       "    </tr>\n",
       "  </tbody>\n",
       "</table>\n",
       "</div>"
      ],
      "text/plain": [
       "           state constituency                   name  winner party    symbol  \\\n",
       "0      Telangana     ADILABAD         SOYAM BAPU RAO       1   BJP     Lotus   \n",
       "1      Telangana     ADILABAD           Godam Nagesh       0   TRS       Car   \n",
       "2      Telangana     ADILABAD          RATHOD RAMESH       0   INC      Hand   \n",
       "3  Uttar Pradesh         AGRA  Satyapal Singh Baghel       1   BJP     Lotus   \n",
       "4  Uttar Pradesh         AGRA       Manoj Kumar Soni       0   BSP  Elephant   \n",
       "\n",
       "  gender  criminal cases   age category      education       assets  \\\n",
       "0   MALE              52  52.0       ST      12th Pass    3099414.0   \n",
       "1   MALE               0  54.0       ST  Post Graduate   18477888.0   \n",
       "2   MALE               3  52.0       ST      12th Pass   36491000.0   \n",
       "3   MALE               5  58.0       SC      Doctorate   74274036.0   \n",
       "4   MALE               0  47.0       SC  Post Graduate  133784385.0   \n",
       "\n",
       "   liabilities  general votes  postal votes  total votes  percent of electors  \\\n",
       "0     231450.0         376892           482       377374            25.330684   \n",
       "1     847000.0         318665           149       318814            21.399929   \n",
       "2   15300000.0         314057           181       314238            21.092771   \n",
       "3    8606522.0         644459          2416       646875            33.383823   \n",
       "4   22251891.0         434199          1130       435329            22.466390   \n",
       "\n",
       "   percent of total votes  total electors  \n",
       "0               35.468248         1489790  \n",
       "1               29.964370         1489790  \n",
       "2               29.534285         1489790  \n",
       "3               56.464615         1937690  \n",
       "4               37.999125         1937690  "
      ]
     },
     "execution_count": 4,
     "metadata": {},
     "output_type": "execute_result"
    }
   ],
   "source": [
    "df2 = pd.read_csv('cleaned_election.csv')\n",
    "df2.head()"
   ]
  },
  {
   "cell_type": "markdown",
   "id": "b8f87e84",
   "metadata": {},
   "source": [
    "### Age distribution of candidates"
   ]
  },
  {
   "cell_type": "code",
   "execution_count": 5,
   "id": "c7070499",
   "metadata": {
    "scrolled": true
   },
   "outputs": [
    {
     "data": {
      "image/png": "[encoded data removed]",
      "text/plain": [
       "<Figure size 720x288 with 2 Axes>"
      ]
     },
     "metadata": {
      "needs_background": "light"
     },
     "output_type": "display_data"
    }
   ],
   "source": [
    "plt.figure(figsize=(10, 4))\n",
    "plt.subplot(1, 2, 1)\n",
    "sns.histplot(data=df2, x='age', kde=True)\n",
    "plt.title(\"Age distribution of All Contestants\")\n",
    "\n",
    "plt.subplot(1, 2, 2)\n",
    "sns.histplot(data=df2.loc[df2['winner'] == 1], x = 'age', kde=True, color='purple')\n",
    "plt.title(\"Age distribution of Winning candidates\")\n",
    "\n",
    "plt.tight_layout()"
   ]
  },
  {
   "cell_type": "markdown",
   "id": "15f78c80",
   "metadata": {},
   "source": [
    "#### Insights:\n",
    "- From the graph we can infer that the majority candidates are in the age group of 45 - 65\n",
    "- Although India has a huge population of youngsters, very few compete\n",
    "- The winners are also from the senior age group\n",
    "- The country seems to prefer experienced candidates"
   ]
  },
  {
   "cell_type": "code",
   "execution_count": 6,
   "id": "8c1c34fa",
   "metadata": {},
   "outputs": [],
   "source": [
    "winners = df2.loc[df2['winner'] == 1]\n",
    "winners_oldest = winners.sort_values('age', ascending=False).head(10)\n",
    "winners_youngest = winners.sort_values('age', ascending=True).head(10)"
   ]
  },
  {
   "cell_type": "code",
   "execution_count": 7,
   "id": "6fd3e7e3",
   "metadata": {},
   "outputs": [
    {
     "data": {
      "image/png": "[encoded data removed]",
      "text/plain": [
       "<Figure size 720x288 with 2 Axes>"
      ]
     },
     "metadata": {
      "needs_background": "light"
     },
     "output_type": "display_data"
    }
   ],
   "source": [
    "plt.figure(figsize=(10, 4))\n",
    "plt.subplot(1, 2, 1)\n",
    "sns.barplot(data=winners_oldest, x='name', y='age')\n",
    "plt.xticks(rotation=90)\n",
    "plt.title(\"Top 10 Oldest candidates\")\n",
    "\n",
    "plt.subplot(1, 2, 2)\n",
    "sns.barplot(data=winners_youngest, x='name', y='age')\n",
    "plt.xticks(rotation=90)\n",
    "plt.title(\"Top 10 Youngest candidates\")\n",
    "\n",
    "plt.show()"
   ]
  },
  {
   "cell_type": "markdown",
   "id": "3b374afd",
   "metadata": {},
   "source": [
    "### Education status of candidates"
   ]
  },
  {
   "cell_type": "code",
   "execution_count": 8,
   "id": "19edf28c",
   "metadata": {
    "scrolled": false
   },
   "outputs": [
    {
     "data": {
      "image/png": "[encoded data removed]",
      "text/plain": [
       "<Figure size 576x360 with 1 Axes>"
      ]
     },
     "metadata": {
      "needs_background": "light"
     },
     "output_type": "display_data"
    }
   ],
   "source": [
    "plt.figure(figsize=(8, 5))\n",
    "sns.countplot(x='education', data=df2, hue='winner')\n",
    "plt.title(\"Education status of Winning Candidates vs Losing Candidates\")\n",
    "plt.legend(title='Election outcome', labels=['Lost', 'Won'])\n",
    "plt.xticks(rotation=45)\n",
    "plt.show()"
   ]
  },
  {
   "cell_type": "markdown",
   "id": "4f26695d",
   "metadata": {},
   "source": [
    "#### Insights:\n",
    "- Majority of the candidates are either graduates or postgraduates\n",
    "- The same is true for winners also\n",
    "- This dispels the long held notion that politicians are generally illeterate"
   ]
  },
  {
   "cell_type": "markdown",
   "id": "3b9fb069",
   "metadata": {},
   "source": [
    "### Gender-wise distribution of contestants"
   ]
  },
  {
   "cell_type": "code",
   "execution_count": 14,
   "id": "74cdef67",
   "metadata": {
    "scrolled": false
   },
   "outputs": [
    {
     "data": {
      "image/png": "[encoded data removed]",
      "text/plain": [
       "<Figure size 432x468 with 1 Axes>"
      ]
     },
     "metadata": {
      "needs_background": "light"
     },
     "output_type": "display_data"
    }
   ],
   "source": [
    "plt.figure(figsize=(6, 6.5))\n",
    "graph_1 = sns.countplot(x = 'gender', hue = 'winner', data = df2, )\n",
    "rects = graph_1.patches\n",
    "for bar in rects:\n",
    "    y_value = bar.get_height()\n",
    "    x_value = bar.get_x() + bar.get_width()/2\n",
    "    graph_1.annotate(f'\\n{y_value}', (x_value, y_value), ha = 'center', va = 'top')\n",
    "plt.title('Contestants: Gender wise', fontsize = 14)\n",
    "plt.legend(title='Election outcome', labels=['Lost', 'Won'])\n",
    "plt.show()"
   ]
  },
  {
   "cell_type": "markdown",
   "id": "1cca21fd",
   "metadata": {},
   "source": [
    "#### Insights:\n",
    "- Only a small minority of the candidates(contesting & winning) are females\n",
    "- Gender discrimination is still high in politics"
   ]
  },
  {
   "cell_type": "markdown",
   "id": "5d84d833",
   "metadata": {},
   "source": [
    "### Criminal Cases - State wise & Party wise"
   ]
  },
  {
   "cell_type": "code",
   "execution_count": 40,
   "id": "8e371222",
   "metadata": {},
   "outputs": [
    {
     "data": {
      "text/plain": [
       "state\n",
       "Kerala            669\n",
       "Uttar Pradesh     430\n",
       "Bihar             312\n",
       "West Bengal       303\n",
       "Maharashtra       302\n",
       "Telangana         195\n",
       "Tamil Nadu        161\n",
       "Odisha            105\n",
       "Andhra Pradesh     81\n",
       "Jharkhand          67\n",
       "Madhya Pradesh     63\n",
       "Karnataka          44\n",
       "Gujarat            39\n",
       "Rajasthan          30\n",
       "Punjab             28\n",
       "Name: criminal cases, dtype: int64"
      ]
     },
     "execution_count": 40,
     "metadata": {},
     "output_type": "execute_result"
    }
   ],
   "source": [
    "criminal_state = df2.groupby('state')['criminal cases'].sum().sort_values(ascending = False).head(15)\n",
    "criminal_state"
   ]
  },
  {
   "cell_type": "code",
   "execution_count": 55,
   "id": "0588da52",
   "metadata": {},
   "outputs": [
    {
     "data": {
      "image/png": "[encoded data removed]",
      "text/plain": [
       "<Figure size 576x288 with 1 Axes>"
      ]
     },
     "metadata": {},
     "output_type": "display_data"
    }
   ],
   "source": [
    "plt.figure(figsize=(8, 4))\n",
    "sns.set_style('darkgrid')\n",
    "graph_2 = criminal_state.plot(kind='bar', color='orange')\n",
    "plt.title(\"Count of criminal cases of all candidates - state wise\", fontsize=14)\n",
    "plt.show()"
   ]
  },
  {
   "cell_type": "code",
   "execution_count": 62,
   "id": "719846d2",
   "metadata": {},
   "outputs": [],
   "source": [
    "criminal_party = df2.groupby('party')['criminal cases'].sum().sort_values(ascending=False).head(15)"
   ]
  },
  {
   "cell_type": "code",
   "execution_count": 64,
   "id": "a98bb37f",
   "metadata": {
    "scrolled": true
   },
   "outputs": [
    {
     "data": {
      "image/png": "[encoded data removed]",
      "text/plain": [
       "<Figure size 576x288 with 1 Axes>"
      ]
     },
     "metadata": {},
     "output_type": "display_data"
    }
   ],
   "source": [
    "plt.figure(figsize=(8, 4))\n",
    "sns.set_style('darkgrid')\n",
    "criminal_party.plot(kind='bar', color='black')\n",
    "plt.title(\"Count of criminal cases of all candidates - party wise\", fontsize=14)\n",
    "plt.show()"
   ]
  },
  {
   "cell_type": "markdown",
   "id": "2c53b921",
   "metadata": {},
   "source": [
    "## 3. Classification model"
   ]
  },
  {
   "cell_type": "code",
   "execution_count": 101,
   "id": "0c7c900a",
   "metadata": {},
   "outputs": [],
   "source": [
    "X = df.drop(columns='winner', axis = 1)\n",
    "y = df['winner']"
   ]
  },
  {
   "cell_type": "code",
   "execution_count": 102,
   "id": "d6ee6789",
   "metadata": {},
   "outputs": [],
   "source": [
    "X_train, X_test, y_train, y_test = train_test_split(X, y, random_state=2, test_size=0.2)"
   ]
  },
  {
   "cell_type": "markdown",
   "id": "2e2e701f",
   "metadata": {},
   "source": [
    "### 1. Support Vector Machine"
   ]
  },
  {
   "cell_type": "code",
   "execution_count": 103,
   "id": "60a4b0eb",
   "metadata": {},
   "outputs": [],
   "source": [
    "supp_vector = SVC()\n",
    "svc_model = supp_vector.fit(X_train, y_train)"
   ]
  },
  {
   "cell_type": "code",
   "execution_count": 104,
   "id": "295bbc29",
   "metadata": {},
   "outputs": [],
   "source": [
    "svc_predict = svc_model.predict(X_test)"
   ]
  },
  {
   "cell_type": "code",
   "execution_count": 105,
   "id": "4b28ad5f",
   "metadata": {},
   "outputs": [
    {
     "data": {
      "text/plain": [
       "array([[282,   9],\n",
       "       [ 14,  99]], dtype=int64)"
      ]
     },
     "execution_count": 105,
     "metadata": {},
     "output_type": "execute_result"
    }
   ],
   "source": [
    "confusion_matrix(svc_predict, y_test)"
   ]
  },
  {
   "cell_type": "code",
   "execution_count": 106,
   "id": "35b59023",
   "metadata": {},
   "outputs": [
    {
     "name": "stdout",
     "output_type": "stream",
     "text": [
      "SVC accuracy score is:  94.3069\n"
     ]
    }
   ],
   "source": [
    "print('SVC accuracy score is: ', round(accuracy_score(y_test, svc_predict)*100, 4))"
   ]
  },
  {
   "cell_type": "markdown",
   "id": "cabf302f",
   "metadata": {},
   "source": [
    "### 2. Decision Tree Classifier"
   ]
  },
  {
   "cell_type": "code",
   "execution_count": 107,
   "id": "e8b6bc69",
   "metadata": {},
   "outputs": [],
   "source": [
    "dt = DecisionTreeClassifier()\n",
    "dt_model = dt.fit(X_train, y_train)"
   ]
  },
  {
   "cell_type": "code",
   "execution_count": 108,
   "id": "615059f6",
   "metadata": {},
   "outputs": [],
   "source": [
    "dt_predict = dt_model.predict(X_test)"
   ]
  },
  {
   "cell_type": "code",
   "execution_count": 109,
   "id": "b706e941",
   "metadata": {},
   "outputs": [
    {
     "data": {
      "text/plain": [
       "array([[275,  21],\n",
       "       [ 12,  96]], dtype=int64)"
      ]
     },
     "execution_count": 109,
     "metadata": {},
     "output_type": "execute_result"
    }
   ],
   "source": [
    "confusion_matrix(y_test, dt_predict)"
   ]
  },
  {
   "cell_type": "code",
   "execution_count": 110,
   "id": "be633aa6",
   "metadata": {},
   "outputs": [
    {
     "name": "stdout",
     "output_type": "stream",
     "text": [
      "Decision tree accuracy score is:  91.8317\n"
     ]
    }
   ],
   "source": [
    "print('Decision tree accuracy score is: ', round(accuracy_score(y_test, dt_predict)*100, 4))"
   ]
  },
  {
   "cell_type": "markdown",
   "id": "b69214b1",
   "metadata": {},
   "source": [
    "### 3. Logistic Regression"
   ]
  },
  {
   "cell_type": "code",
   "execution_count": 111,
   "id": "9c264cb4",
   "metadata": {},
   "outputs": [],
   "source": [
    "log_reg = LogisticRegression()\n",
    "lr_model = log_reg.fit(X_train, y_train)"
   ]
  },
  {
   "cell_type": "code",
   "execution_count": 112,
   "id": "0cca67da",
   "metadata": {},
   "outputs": [],
   "source": [
    "lr_predict = lr_model.predict(X_test)"
   ]
  },
  {
   "cell_type": "code",
   "execution_count": 113,
   "id": "1cba91ec",
   "metadata": {},
   "outputs": [
    {
     "data": {
      "text/plain": [
       "array([[286,  10],\n",
       "       [ 11,  97]], dtype=int64)"
      ]
     },
     "execution_count": 113,
     "metadata": {},
     "output_type": "execute_result"
    }
   ],
   "source": [
    "confusion_matrix(y_test, lr_predict)"
   ]
  },
  {
   "cell_type": "code",
   "execution_count": 114,
   "id": "91ccdf7b",
   "metadata": {},
   "outputs": [
    {
     "name": "stdout",
     "output_type": "stream",
     "text": [
      "Logistic Regression accuracy score is:  94.802\n"
     ]
    }
   ],
   "source": [
    "print('Logistic Regression accuracy score is: ', round(accuracy_score(y_test, lr_predict)*100, 4))"
   ]
  },
  {
   "cell_type": "markdown",
   "id": "35de9d6a",
   "metadata": {},
   "source": [
    "### 4. K-Nearest Neighbor Classifier"
   ]
  },
  {
   "cell_type": "code",
   "execution_count": 115,
   "id": "eea2e71e",
   "metadata": {},
   "outputs": [],
   "source": [
    "knn = KNeighborsClassifier()\n",
    "knn_model = knn.fit(X_train, y_train)"
   ]
  },
  {
   "cell_type": "code",
   "execution_count": 116,
   "id": "fd9d00d0",
   "metadata": {},
   "outputs": [],
   "source": [
    "knn_predict = knn_model.predict(X_test)"
   ]
  },
  {
   "cell_type": "code",
   "execution_count": 117,
   "id": "8039de0a",
   "metadata": {},
   "outputs": [
    {
     "data": {
      "text/plain": [
       "array([[283,  13],\n",
       "       [ 22,  86]], dtype=int64)"
      ]
     },
     "execution_count": 117,
     "metadata": {},
     "output_type": "execute_result"
    }
   ],
   "source": [
    "confusion_matrix(y_test, knn_predict)"
   ]
  },
  {
   "cell_type": "code",
   "execution_count": 118,
   "id": "a66089b8",
   "metadata": {},
   "outputs": [
    {
     "name": "stdout",
     "output_type": "stream",
     "text": [
      "K Nearest Neighbor accuracy score is:  91.3366\n"
     ]
    }
   ],
   "source": [
    "print('K Nearest Neighbor accuracy score is: ', round(accuracy_score(y_test, knn_predict)*100, 4))"
   ]
  },
  {
   "cell_type": "markdown",
   "id": "0d572ba8",
   "metadata": {},
   "source": [
    "### 5. Random Forest Classifier"
   ]
  },
  {
   "cell_type": "code",
   "execution_count": 119,
   "id": "d852f568",
   "metadata": {},
   "outputs": [],
   "source": [
    "rand_forest = RandomForestClassifier()\n",
    "rf_model = rand_forest.fit(X_train, y_train)"
   ]
  },
  {
   "cell_type": "code",
   "execution_count": 120,
   "id": "f9f7ecda",
   "metadata": {},
   "outputs": [],
   "source": [
    "rf_predict = rf_model.predict(X_test)"
   ]
  },
  {
   "cell_type": "code",
   "execution_count": 121,
   "id": "a616aae3",
   "metadata": {},
   "outputs": [
    {
     "data": {
      "text/plain": [
       "array([[288,   8],\n",
       "       [ 11,  97]], dtype=int64)"
      ]
     },
     "execution_count": 121,
     "metadata": {},
     "output_type": "execute_result"
    }
   ],
   "source": [
    "confusion_matrix(y_test, rf_predict)"
   ]
  },
  {
   "cell_type": "code",
   "execution_count": 122,
   "id": "2e053574",
   "metadata": {
    "scrolled": true
   },
   "outputs": [
    {
     "name": "stdout",
     "output_type": "stream",
     "text": [
      "Random Forest Classifier accuracy score is:  95.297\n"
     ]
    }
   ],
   "source": [
    "print('Random Forest Classifier accuracy score is: ', round(accuracy_score(y_test, rf_predict)*100, 4))"
   ]
  },
  {
   "cell_type": "markdown",
   "id": "19c8246c",
   "metadata": {},
   "source": [
    "Based on five different classification model, random forest seems most suitable"
   ]
  },
  {
   "cell_type": "markdown",
   "id": "013c3d4b",
   "metadata": {},
   "source": [
    "## 4. Hyperparameter Tuning"
   ]
  },
  {
   "cell_type": "markdown",
   "id": "0b0a1b1d",
   "metadata": {},
   "source": [
    "Random Forest Parameters"
   ]
  },
  {
   "cell_type": "code",
   "execution_count": 123,
   "id": "c0aef20d",
   "metadata": {},
   "outputs": [
    {
     "data": {
      "text/plain": [
       "{'bootstrap': True,\n",
       " 'ccp_alpha': 0.0,\n",
       " 'class_weight': None,\n",
       " 'criterion': 'gini',\n",
       " 'max_depth': None,\n",
       " 'max_features': 'auto',\n",
       " 'max_leaf_nodes': None,\n",
       " 'max_samples': None,\n",
       " 'min_impurity_decrease': 0.0,\n",
       " 'min_impurity_split': None,\n",
       " 'min_samples_leaf': 1,\n",
       " 'min_samples_split': 2,\n",
       " 'min_weight_fraction_leaf': 0.0,\n",
       " 'n_estimators': 100,\n",
       " 'n_jobs': None,\n",
       " 'oob_score': False,\n",
       " 'random_state': None,\n",
       " 'verbose': 0,\n",
       " 'warm_start': False}"
      ]
     },
     "execution_count": 123,
     "metadata": {},
     "output_type": "execute_result"
    }
   ],
   "source": [
    "rand_forest.get_params()"
   ]
  },
  {
   "cell_type": "markdown",
   "id": "1d92abed",
   "metadata": {},
   "source": [
    "### Grid Search Method"
   ]
  },
  {
   "cell_type": "code",
   "execution_count": 217,
   "id": "e0aa6b29",
   "metadata": {},
   "outputs": [],
   "source": [
    "parameters ={'max_depth': [None, 20, 30, 40, 50],\n",
    "'criterion' : ['gini', 'entropy'], 'max_features': [0.3,0.5,0.7,0.9],\n",
    "'min_samples_split': [2,5,10], 'min_samples_leaf': [2,3,5,7,10,15],\n",
    "'n_estimators': [12, 14, 19, 100]}"
   ]
  },
  {
   "cell_type": "code",
   "execution_count": 218,
   "id": "4c07f878",
   "metadata": {},
   "outputs": [
    {
     "data": {
      "text/plain": [
       "2880"
      ]
     },
     "execution_count": 218,
     "metadata": {},
     "output_type": "execute_result"
    }
   ],
   "source": [
    "param_size = ParameterGrid(parameters)\n",
    "len(param_size)"
   ]
  },
  {
   "cell_type": "markdown",
   "id": "a3ce1adb",
   "metadata": {},
   "source": [
    "There are 2880 possible parameter combination based on grid search"
   ]
  },
  {
   "cell_type": "code",
   "execution_count": 219,
   "id": "a43bddb7",
   "metadata": {},
   "outputs": [
    {
     "name": "stdout",
     "output_type": "stream",
     "text": [
      "\n",
      "Best Params:  {'criterion': 'entropy', 'max_depth': 20, 'max_features': 0.9, 'min_samples_leaf': 15, 'min_samples_split': 5, 'n_estimators': 12}\n",
      "\n",
      "Best Score:  0.9467107666865374\n"
     ]
    }
   ],
   "source": [
    "grid_search = RandomForestClassifier()\n",
    "grid_search = GridSearchCV(grid_search, parameters, cv=5, scoring='accuracy',n_jobs=-1)\n",
    "grid_result = grid_search.fit(X_train, y_train)\n",
    "print('\\nBest Params: ', grid_result.best_params_)\n",
    "print('\\nBest Score: ', grid_result.best_score_)"
   ]
  },
  {
   "cell_type": "markdown",
   "id": "3530ba3c",
   "metadata": {},
   "source": [
    "### Cross Validation - 10 fold"
   ]
  },
  {
   "cell_type": "code",
   "execution_count": 227,
   "id": "3918c3c5",
   "metadata": {},
   "outputs": [
    {
     "name": "stdout",
     "output_type": "stream",
     "text": [
      "\n",
      "\n",
      "% Accuracy : 94.55 \n",
      "%Standard Deviation:  1.6695\n"
     ]
    }
   ],
   "source": [
    "randomforest_classifier = RandomForestClassifier(criterion='entropy', max_depth=20, \n",
    "                                                max_features=0.9,min_samples_leaf=15, \n",
    "                                                min_samples_split=5, n_estimators=12)\n",
    "\n",
    "score=cross_val_score(randomforest_classifier,X,y,cv=10)\n",
    "print('\\n')\n",
    "print('% Accuracy :', round(score.mean()*100,4), '\\n%Standard Deviation: ', round(score.std() * 100, 4))"
   ]
  },
  {
   "cell_type": "markdown",
   "id": "261f9e3e",
   "metadata": {},
   "source": [
    "### Conclusion:\n",
    "- After extensive hyperparameter tuning and cross validation, we were able to come up with a model having mean accuracy of 94.55% with a standard deviation of 1.67%.\n",
    "- Since the dataset contains several categorical features, further addition of features via feature engineering might improve the model."
   ]
  }
 ],
 "metadata": {
  "kernelspec": {
   "display_name": "Python 3",
   "language": "python",
   "name": "python3"
  },
  "language_info": {
   "codemirror_mode": {
    "name": "ipython",
    "version": 3
   },
   "file_extension": ".py",
   "mimetype": "text/x-python",
   "name": "python",
   "nbconvert_exporter": "python",
   "pygments_lexer": "ipython3",
   "version": "3.8.8"
  }
 },
 "nbformat": 4,
 "nbformat_minor": 5
}
